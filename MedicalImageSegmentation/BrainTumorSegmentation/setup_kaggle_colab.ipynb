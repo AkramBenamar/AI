{
  "cells": [
    {
      "cell_type": "markdown",
      "metadata": {
        "id": "WzT_6wFyeSjT"
      },
      "source": [
        "# N \n",
        "# Notebook occ\n",
        "# !!!!!!!!!!!!!!!!!!!!!!!!!!!!!!!!!!!\n",
        "\n"
      ]
    },
    {
      "cell_type": "code",
      "execution_count": null,
      "metadata": {
        "id": "KNFRfkTCko0Q",
        "colab": {
          "base_uri": "https://localhost:8080/"
        },
        "outputId": "4a201dc6-ce32-4d23-f112-e0d9265beec8"
      },
      "outputs": [
        {
          "output_type": "stream",
          "name": "stdout",
          "text": [
            "Mounted at /content/drive\n"
          ]
        }
      ],
      "source": [
        "from google.colab import drive\n",
        "drive.mount('/content/drive')"
      ]
    },
    {
      "cell_type": "code",
      "execution_count": null,
      "metadata": {
        "id": "fZl21jDLv3Jr"
      },
      "outputs": [],
      "source": [
        "# !cp -r /content/drive/MyDrive/GANs/BrainTumorDetection/RESULTS_KAGGLE/VERSION_split_nass/RESULTS_26/split_nass_Generator.h5 /content/drive/MyDrive/GANs/BrainTumorDetection/INPUTS_EVAL"
      ]
    },
    {
      "cell_type": "markdown",
      "metadata": {
        "id": "TjoxFxiQd9ZY"
      },
      "source": [
        "# Import Datasets from KAGGLE.COM to GDRIVE"
      ]
    },
    {
      "cell_type": "code",
      "execution_count": null,
      "metadata": {
        "id": "2bnnnYsWZgWz"
      },
      "outputs": [],
      "source": [
        "! mkdir ~/.kaggle"
      ]
    },
    {
      "cell_type": "code",
      "execution_count": null,
      "metadata": {
        "id": "VWYQpQXaWY80"
      },
      "outputs": [],
      "source": [
        "!cp /content/drive/MyDrive/kaggle.json ~/.kaggle/kaggle.json"
      ]
    },
    {
      "cell_type": "code",
      "execution_count": null,
      "metadata": {
        "colab": {
          "base_uri": "https://localhost:8080/"
        },
        "id": "NZLopt00lR3f",
        "outputId": "8a1271d9-ce84-4095-cbed-d81ccce0ef54"
      },
      "outputs": [
        {
          "name": "stdout",
          "output_type": "stream",
          "text": [
            "Downloading brats-2021-task1.zip to /content\n",
            "100% 12.3G/12.3G [01:33<00:00, 202MB/s]\n",
            "100% 12.3G/12.3G [01:33<00:00, 140MB/s]\n"
          ]
        }
      ],
      "source": [
        "! kaggle datasets download dschettler8845/brats-2021-task1/BraTS2021_Training_Data.tar"
      ]
    },
    {
      "cell_type": "code",
      "execution_count": null,
      "metadata": {
        "colab": {
          "base_uri": "https://localhost:8080/"
        },
        "id": "S0A85lQkwmIV",
        "outputId": "6621aaa3-b628-4239-93f0-d1276685b19e"
      },
      "outputs": [
        {
          "name": "stdout",
          "output_type": "stream",
          "text": [
            "^C\n"
          ]
        }
      ],
      "source": [
        "!cp BraTS2021_Training_Data.tar /content/drive/MyDrive/BraTS2021data/"
      ]
    },
    {
      "cell_type": "code",
      "execution_count": null,
      "metadata": {
        "colab": {
          "base_uri": "https://localhost:8080/"
        },
        "id": "blrEEJ0JxCYf",
        "outputId": "e54a1dda-09ad-4372-fedc-830ed2fb8319"
      },
      "outputs": [
        {
          "name": "stdout",
          "output_type": "stream",
          "text": [
            "Archive:  /content/drive/MyDrive/BraTS2021data/brats-2021-task1.zip\n",
            "  inflating: BraTS2021_00495.tar     \n",
            "  inflating: BraTS2021_00621.tar     \n",
            "  inflating: BraTS2021_Training_Data.tar  \n"
          ]
        }
      ],
      "source": [
        "! unzip  /content/drive/MyDrive/BraTS2021data/brats-2021-task1.zip"
      ]
    },
    {
      "cell_type": "code",
      "execution_count": null,
      "metadata": {
        "id": "TstU_-Gn-K3B"
      },
      "outputs": [],
      "source": []
    },
    {
      "cell_type": "markdown",
      "metadata": {
        "id": "CBjwMPcWcHNn"
      },
      "source": [
        "# Import results.zip from KAGGLE.COM to GDRIVE"
      ]
    },
    {
      "cell_type": "code",
      "execution_count": null,
      "metadata": {
        "id": "6SPsAO8DSjJ3"
      },
      "outputs": [],
      "source": [
        "EXEC = 64\n",
        "VERSION = 'brats_22'\n",
        "# VERSION = 'uGAN_S1_v3_br2021'"
      ]
    },
    {
      "cell_type": "code",
      "execution_count": null,
      "metadata": {
        "colab": {
          "base_uri": "https://localhost:8080/"
        },
        "id": "HmS0K1JdVnUf",
        "outputId": "ba5fd298-3888-4451-8755-4a03541cd582"
      },
      "outputs": [
        {
          "name": "stdout",
          "output_type": "stream",
          "text": [
            "mkdir: cannot create directory ‘/content/drive/MyDrive/GANs/BrainTumorDetection/RESULTS_KAGGLE/VERSION_brats_22’: File exists\n"
          ]
        }
      ],
      "source": [
        "# RUN ON NEW VERSION \n",
        "\n",
        "VERSION_PATH = f'/content/drive/MyDrive/GANs/BrainTumorDetection/RESULTS_KAGGLE/VERSION_{VERSION}'\n",
        "! mkdir $VERSION_PATH"
      ]
    },
    {
      "cell_type": "code",
      "execution_count": null,
      "metadata": {
        "id": "lYwZyV09SiHw"
      },
      "outputs": [],
      "source": [
        "# RUN ON NEW EXECUTION\n",
        "\n",
        "EXEC_PATH = f'/content/drive/MyDrive/GANs/BrainTumorDetection/RESULTS_KAGGLE/VERSION_{VERSION}/RESULTS_{EXEC}'\n",
        "! mkdir $EXEC_PATH"
      ]
    },
    {
      "cell_type": "code",
      "execution_count": null,
      "metadata": {
        "colab": {
          "base_uri": "https://localhost:8080/"
        },
        "id": "mBq5JY_Cb0aU",
        "outputId": "7d0d2a98-3dac-4eec-f429-90c168be9747"
      },
      "outputs": [
        {
          "output_type": "stream",
          "name": "stdout",
          "text": [
            "--2022-06-10 10:42:22--  https://www.kaggleusercontent.com/kf/97944500/eyJhbGciOiJkaXIiLCJlbmMiOiJBMTI4Q0JDLUhTMjU2In0..wpBEaq-O0t16BDuWfFIZYA.HgywP8bZvLtBfUwAXtMZtHWuwtVXndC1ut47HCilfr0pDjJn-Uus5NJmqODvDtpT5ucpzVLnPc3RoJN7HhvlAwFRMalFvoPFs4cAJiTi75pQETZMNuABGG0WhgPCHcnvYU8_9UyqR7KzRkYfGlk8q1bqbGIU0mnfdxOkXjSh2PDCqxYJwXGteZ7RzqDLuRt0IsqOLVeIKyigvfk_KHozXY_SCxQC8C9JUJJGBdV7pWd3oKAVQrke4ClpSTtDfsyVzamkSyGdGj35ka8-7r_c0Fm0qRkI59ewGyHUbEN8Pcujjkp_U74euo-Huq84n8581KnZlzWBvdwozDUmy0Cn4aFFPYhnSUsx9_O44YHudczXSLZB2fZzgCIiimSXbZi21gy-VwFFVlrHzrUDWIzt_G7RiHMjcGiMAKlyzv4Q0nS9i-t7RhGakBBYhMHWMo3ggbM3ZDLYSyMMvqK97OdWJBU9Tg4duy-gE1Z0g2uxvkKBqHJKu7P2V1gNhVAHTLFukfctyuf1uDFaTDCPZkg5DxKH_JByAawSTk4wJ6Y7w3UrvY5mie_GIXBjk_1Z5DYwJkBth5LM1GraHpXLpYbNIIoRxDk48dGrfZ4GXMoW1Dwtnk7pMot8v9rD19xzIVwhetAYF9nRJEGBYAYQ_WDgVw.KTJbQbPqM9ZEiaXMWJ4xIA/results.zip\n",
            "Resolving www.kaggleusercontent.com (www.kaggleusercontent.com)... 35.190.26.106\n",
            "Connecting to www.kaggleusercontent.com (www.kaggleusercontent.com)|35.190.26.106|:443... connected.\n",
            "HTTP request sent, awaiting response... 200 OK\n",
            "Length: 420350758 (401M) [application/zip]\n",
            "Saving to: ‘results.zip’\n",
            "\n",
            "results.zip         100%[===================>] 400.88M   232MB/s    in 1.7s    \n",
            "\n",
            "2022-06-10 10:42:24 (232 MB/s) - ‘results.zip’ saved [420350758/420350758]\n",
            "\n"
          ]
        }
      ],
      "source": [
        "! wget 'https://www.kaggleusercontent.com/kf/97944500/eyJhbGciOiJkaXIiLCJlbmMiOiJBMTI4Q0JDLUhTMjU2In0..wpBEaq-O0t16BDuWfFIZYA.HgywP8bZvLtBfUwAXtMZtHWuwtVXndC1ut47HCilfr0pDjJn-Uus5NJmqODvDtpT5ucpzVLnPc3RoJN7HhvlAwFRMalFvoPFs4cAJiTi75pQETZMNuABGG0WhgPCHcnvYU8_9UyqR7KzRkYfGlk8q1bqbGIU0mnfdxOkXjSh2PDCqxYJwXGteZ7RzqDLuRt0IsqOLVeIKyigvfk_KHozXY_SCxQC8C9JUJJGBdV7pWd3oKAVQrke4ClpSTtDfsyVzamkSyGdGj35ka8-7r_c0Fm0qRkI59ewGyHUbEN8Pcujjkp_U74euo-Huq84n8581KnZlzWBvdwozDUmy0Cn4aFFPYhnSUsx9_O44YHudczXSLZB2fZzgCIiimSXbZi21gy-VwFFVlrHzrUDWIzt_G7RiHMjcGiMAKlyzv4Q0nS9i-t7RhGakBBYhMHWMo3ggbM3ZDLYSyMMvqK97OdWJBU9Tg4duy-gE1Z0g2uxvkKBqHJKu7P2V1gNhVAHTLFukfctyuf1uDFaTDCPZkg5DxKH_JByAawSTk4wJ6Y7w3UrvY5mie_GIXBjk_1Z5DYwJkBth5LM1GraHpXLpYbNIIoRxDk48dGrfZ4GXMoW1Dwtnk7pMot8v9rD19xzIVwhetAYF9nRJEGBYAYQ_WDgVw.KTJbQbPqM9ZEiaXMWJ4xIA/results.zip'"
      ]
    },
    {
      "cell_type": "code",
      "execution_count": null,
      "metadata": {
        "colab": {
          "base_uri": "https://localhost:8080/"
        },
        "id": "dMBAynpJb30D",
        "outputId": "5b5276c8-bdcf-4251-b47f-a4f046b787af"
      },
      "outputs": [
        {
          "output_type": "stream",
          "name": "stdout",
          "text": [
            "Archive:  /content/results.zip\n",
            "  inflating: /content/drive/MyDrive/GANs/BrainTumorDetection/RESULTS_KAGGLE/RESULTS/brats_22_Discriminator.h5  \n",
            "  inflating: /content/drive/MyDrive/GANs/BrainTumorDetection/RESULTS_KAGGLE/RESULTS/brats_22_Generator.h5  \n",
            "  inflating: /content/drive/MyDrive/GANs/BrainTumorDetection/RESULTS_KAGGLE/RESULTS/brats_22_fit_output_1.txt  \n",
            "  inflating: /content/drive/MyDrive/GANs/BrainTumorDetection/RESULTS_KAGGLE/RESULTS/brats_22_fit_output_10.txt  \n",
            "  inflating: /content/drive/MyDrive/GANs/BrainTumorDetection/RESULTS_KAGGLE/RESULTS/brats_22_fit_output_11.txt  \n",
            "  inflating: /content/drive/MyDrive/GANs/BrainTumorDetection/RESULTS_KAGGLE/RESULTS/brats_22_fit_output_12.txt  \n",
            "  inflating: /content/drive/MyDrive/GANs/BrainTumorDetection/RESULTS_KAGGLE/RESULTS/brats_22_fit_output_13.txt  \n",
            "  inflating: /content/drive/MyDrive/GANs/BrainTumorDetection/RESULTS_KAGGLE/RESULTS/brats_22_fit_output_14.txt  \n",
            "  inflating: /content/drive/MyDrive/GANs/BrainTumorDetection/RESULTS_KAGGLE/RESULTS/brats_22_fit_output_15.txt  \n",
            "  inflating: /content/drive/MyDrive/GANs/BrainTumorDetection/RESULTS_KAGGLE/RESULTS/brats_22_fit_output_16.txt  \n",
            "  inflating: /content/drive/MyDrive/GANs/BrainTumorDetection/RESULTS_KAGGLE/RESULTS/brats_22_fit_output_17.txt  \n",
            "  inflating: /content/drive/MyDrive/GANs/BrainTumorDetection/RESULTS_KAGGLE/RESULTS/brats_22_fit_output_18.txt  \n",
            "  inflating: /content/drive/MyDrive/GANs/BrainTumorDetection/RESULTS_KAGGLE/RESULTS/brats_22_fit_output_19.txt  \n",
            "  inflating: /content/drive/MyDrive/GANs/BrainTumorDetection/RESULTS_KAGGLE/RESULTS/brats_22_fit_output_2.txt  \n",
            "  inflating: /content/drive/MyDrive/GANs/BrainTumorDetection/RESULTS_KAGGLE/RESULTS/brats_22_fit_output_20.txt  \n",
            "  inflating: /content/drive/MyDrive/GANs/BrainTumorDetection/RESULTS_KAGGLE/RESULTS/brats_22_fit_output_21.txt  \n",
            "  inflating: /content/drive/MyDrive/GANs/BrainTumorDetection/RESULTS_KAGGLE/RESULTS/brats_22_fit_output_22.txt  \n",
            "  inflating: /content/drive/MyDrive/GANs/BrainTumorDetection/RESULTS_KAGGLE/RESULTS/brats_22_fit_output_23.txt  \n",
            "  inflating: /content/drive/MyDrive/GANs/BrainTumorDetection/RESULTS_KAGGLE/RESULTS/brats_22_fit_output_24.txt  \n",
            "  inflating: /content/drive/MyDrive/GANs/BrainTumorDetection/RESULTS_KAGGLE/RESULTS/brats_22_fit_output_25.txt  \n",
            "  inflating: /content/drive/MyDrive/GANs/BrainTumorDetection/RESULTS_KAGGLE/RESULTS/brats_22_fit_output_26.txt  \n",
            "  inflating: /content/drive/MyDrive/GANs/BrainTumorDetection/RESULTS_KAGGLE/RESULTS/brats_22_fit_output_27.txt  \n",
            "  inflating: /content/drive/MyDrive/GANs/BrainTumorDetection/RESULTS_KAGGLE/RESULTS/brats_22_fit_output_28.txt  \n",
            "  inflating: /content/drive/MyDrive/GANs/BrainTumorDetection/RESULTS_KAGGLE/RESULTS/brats_22_fit_output_29.txt  \n",
            "  inflating: /content/drive/MyDrive/GANs/BrainTumorDetection/RESULTS_KAGGLE/RESULTS/brats_22_fit_output_3.txt  \n",
            "  inflating: /content/drive/MyDrive/GANs/BrainTumorDetection/RESULTS_KAGGLE/RESULTS/brats_22_fit_output_30.txt  \n",
            "  inflating: /content/drive/MyDrive/GANs/BrainTumorDetection/RESULTS_KAGGLE/RESULTS/brats_22_fit_output_32.txt  \n",
            "  inflating: /content/drive/MyDrive/GANs/BrainTumorDetection/RESULTS_KAGGLE/RESULTS/brats_22_fit_output_33.txt  \n",
            "  inflating: /content/drive/MyDrive/GANs/BrainTumorDetection/RESULTS_KAGGLE/RESULTS/brats_22_fit_output_34.txt  \n",
            "  inflating: /content/drive/MyDrive/GANs/BrainTumorDetection/RESULTS_KAGGLE/RESULTS/brats_22_fit_output_35.txt  \n",
            "  inflating: /content/drive/MyDrive/GANs/BrainTumorDetection/RESULTS_KAGGLE/RESULTS/brats_22_fit_output_36.txt  \n",
            "  inflating: /content/drive/MyDrive/GANs/BrainTumorDetection/RESULTS_KAGGLE/RESULTS/brats_22_fit_output_37.txt  \n",
            "  inflating: /content/drive/MyDrive/GANs/BrainTumorDetection/RESULTS_KAGGLE/RESULTS/brats_22_fit_output_38.txt  \n",
            "  inflating: /content/drive/MyDrive/GANs/BrainTumorDetection/RESULTS_KAGGLE/RESULTS/brats_22_fit_output_39.txt  \n",
            "  inflating: /content/drive/MyDrive/GANs/BrainTumorDetection/RESULTS_KAGGLE/RESULTS/brats_22_fit_output_4.txt  \n",
            "  inflating: /content/drive/MyDrive/GANs/BrainTumorDetection/RESULTS_KAGGLE/RESULTS/brats_22_fit_output_40.txt  \n",
            "  inflating: /content/drive/MyDrive/GANs/BrainTumorDetection/RESULTS_KAGGLE/RESULTS/brats_22_fit_output_41.txt  \n",
            "  inflating: /content/drive/MyDrive/GANs/BrainTumorDetection/RESULTS_KAGGLE/RESULTS/brats_22_fit_output_42.txt  \n",
            "  inflating: /content/drive/MyDrive/GANs/BrainTumorDetection/RESULTS_KAGGLE/RESULTS/brats_22_fit_output_43.txt  \n",
            "  inflating: /content/drive/MyDrive/GANs/BrainTumorDetection/RESULTS_KAGGLE/RESULTS/brats_22_fit_output_44.txt  \n",
            "  inflating: /content/drive/MyDrive/GANs/BrainTumorDetection/RESULTS_KAGGLE/RESULTS/brats_22_fit_output_45.txt  \n",
            "  inflating: /content/drive/MyDrive/GANs/BrainTumorDetection/RESULTS_KAGGLE/RESULTS/brats_22_fit_output_46.txt  \n",
            "  inflating: /content/drive/MyDrive/GANs/BrainTumorDetection/RESULTS_KAGGLE/RESULTS/brats_22_fit_output_47.txt  \n",
            "  inflating: /content/drive/MyDrive/GANs/BrainTumorDetection/RESULTS_KAGGLE/RESULTS/brats_22_fit_output_48.txt  \n",
            "  inflating: /content/drive/MyDrive/GANs/BrainTumorDetection/RESULTS_KAGGLE/RESULTS/brats_22_fit_output_49.txt  \n",
            "  inflating: /content/drive/MyDrive/GANs/BrainTumorDetection/RESULTS_KAGGLE/RESULTS/brats_22_fit_output_5.txt  \n",
            "  inflating: /content/drive/MyDrive/GANs/BrainTumorDetection/RESULTS_KAGGLE/RESULTS/brats_22_fit_output_50.txt  \n",
            "  inflating: /content/drive/MyDrive/GANs/BrainTumorDetection/RESULTS_KAGGLE/RESULTS/brats_22_fit_output_51.txt  \n",
            "  inflating: /content/drive/MyDrive/GANs/BrainTumorDetection/RESULTS_KAGGLE/RESULTS/brats_22_fit_output_52.txt  \n",
            "  inflating: /content/drive/MyDrive/GANs/BrainTumorDetection/RESULTS_KAGGLE/RESULTS/brats_22_fit_output_53.txt  \n",
            "  inflating: /content/drive/MyDrive/GANs/BrainTumorDetection/RESULTS_KAGGLE/RESULTS/brats_22_fit_output_54.txt  \n",
            "  inflating: /content/drive/MyDrive/GANs/BrainTumorDetection/RESULTS_KAGGLE/RESULTS/brats_22_fit_output_55.txt  \n",
            "  inflating: /content/drive/MyDrive/GANs/BrainTumorDetection/RESULTS_KAGGLE/RESULTS/brats_22_fit_output_56.txt  \n",
            "  inflating: /content/drive/MyDrive/GANs/BrainTumorDetection/RESULTS_KAGGLE/RESULTS/brats_22_fit_output_57.txt  \n",
            "  inflating: /content/drive/MyDrive/GANs/BrainTumorDetection/RESULTS_KAGGLE/RESULTS/brats_22_fit_output_58.txt  \n",
            "  inflating: /content/drive/MyDrive/GANs/BrainTumorDetection/RESULTS_KAGGLE/RESULTS/brats_22_fit_output_59.txt  \n",
            "  inflating: /content/drive/MyDrive/GANs/BrainTumorDetection/RESULTS_KAGGLE/RESULTS/brats_22_fit_output_6.txt  \n",
            "  inflating: /content/drive/MyDrive/GANs/BrainTumorDetection/RESULTS_KAGGLE/RESULTS/brats_22_fit_output_60.txt  \n",
            "  inflating: /content/drive/MyDrive/GANs/BrainTumorDetection/RESULTS_KAGGLE/RESULTS/brats_22_fit_output_61.txt  \n",
            "  inflating: /content/drive/MyDrive/GANs/BrainTumorDetection/RESULTS_KAGGLE/RESULTS/brats_22_fit_output_62.txt  \n",
            "  inflating: /content/drive/MyDrive/GANs/BrainTumorDetection/RESULTS_KAGGLE/RESULTS/brats_22_fit_output_63.txt  \n",
            "  inflating: /content/drive/MyDrive/GANs/BrainTumorDetection/RESULTS_KAGGLE/RESULTS/brats_22_fit_output_64.txt  \n",
            "  inflating: /content/drive/MyDrive/GANs/BrainTumorDetection/RESULTS_KAGGLE/RESULTS/brats_22_fit_output_7.txt  \n",
            "  inflating: /content/drive/MyDrive/GANs/BrainTumorDetection/RESULTS_KAGGLE/RESULTS/brats_22_fit_output_8.txt  \n",
            "  inflating: /content/drive/MyDrive/GANs/BrainTumorDetection/RESULTS_KAGGLE/RESULTS/brats_22_fit_output_9.txt  \n",
            "  inflating: /content/drive/MyDrive/GANs/BrainTumorDetection/RESULTS_KAGGLE/RESULTS/brats_22_h_1.txt  \n",
            "  inflating: /content/drive/MyDrive/GANs/BrainTumorDetection/RESULTS_KAGGLE/RESULTS/brats_22_h_10.txt  \n",
            "  inflating: /content/drive/MyDrive/GANs/BrainTumorDetection/RESULTS_KAGGLE/RESULTS/brats_22_h_11.txt  \n",
            "  inflating: /content/drive/MyDrive/GANs/BrainTumorDetection/RESULTS_KAGGLE/RESULTS/brats_22_h_12.txt  \n",
            "  inflating: /content/drive/MyDrive/GANs/BrainTumorDetection/RESULTS_KAGGLE/RESULTS/brats_22_h_13.txt  \n",
            "  inflating: /content/drive/MyDrive/GANs/BrainTumorDetection/RESULTS_KAGGLE/RESULTS/brats_22_h_14.txt  \n",
            "  inflating: /content/drive/MyDrive/GANs/BrainTumorDetection/RESULTS_KAGGLE/RESULTS/brats_22_h_15.txt  \n",
            "  inflating: /content/drive/MyDrive/GANs/BrainTumorDetection/RESULTS_KAGGLE/RESULTS/brats_22_h_16.txt  \n",
            "  inflating: /content/drive/MyDrive/GANs/BrainTumorDetection/RESULTS_KAGGLE/RESULTS/brats_22_h_17.txt  \n",
            "  inflating: /content/drive/MyDrive/GANs/BrainTumorDetection/RESULTS_KAGGLE/RESULTS/brats_22_h_18.txt  \n",
            "  inflating: /content/drive/MyDrive/GANs/BrainTumorDetection/RESULTS_KAGGLE/RESULTS/brats_22_h_19.txt  \n",
            "  inflating: /content/drive/MyDrive/GANs/BrainTumorDetection/RESULTS_KAGGLE/RESULTS/brats_22_h_2.txt  \n",
            "  inflating: /content/drive/MyDrive/GANs/BrainTumorDetection/RESULTS_KAGGLE/RESULTS/brats_22_h_20.txt  \n",
            "  inflating: /content/drive/MyDrive/GANs/BrainTumorDetection/RESULTS_KAGGLE/RESULTS/brats_22_h_21.txt  \n",
            "  inflating: /content/drive/MyDrive/GANs/BrainTumorDetection/RESULTS_KAGGLE/RESULTS/brats_22_h_22.txt  \n",
            "  inflating: /content/drive/MyDrive/GANs/BrainTumorDetection/RESULTS_KAGGLE/RESULTS/brats_22_h_23.txt  \n",
            "  inflating: /content/drive/MyDrive/GANs/BrainTumorDetection/RESULTS_KAGGLE/RESULTS/brats_22_h_24.txt  \n",
            "  inflating: /content/drive/MyDrive/GANs/BrainTumorDetection/RESULTS_KAGGLE/RESULTS/brats_22_h_25.txt  \n",
            "  inflating: /content/drive/MyDrive/GANs/BrainTumorDetection/RESULTS_KAGGLE/RESULTS/brats_22_h_26.txt  \n",
            "  inflating: /content/drive/MyDrive/GANs/BrainTumorDetection/RESULTS_KAGGLE/RESULTS/brats_22_h_27.txt  \n",
            "  inflating: /content/drive/MyDrive/GANs/BrainTumorDetection/RESULTS_KAGGLE/RESULTS/brats_22_h_28.txt  \n",
            "  inflating: /content/drive/MyDrive/GANs/BrainTumorDetection/RESULTS_KAGGLE/RESULTS/brats_22_h_29.txt  \n",
            "  inflating: /content/drive/MyDrive/GANs/BrainTumorDetection/RESULTS_KAGGLE/RESULTS/brats_22_h_3.txt  \n",
            "  inflating: /content/drive/MyDrive/GANs/BrainTumorDetection/RESULTS_KAGGLE/RESULTS/brats_22_h_30.txt  \n",
            "  inflating: /content/drive/MyDrive/GANs/BrainTumorDetection/RESULTS_KAGGLE/RESULTS/brats_22_h_32.txt  \n",
            "  inflating: /content/drive/MyDrive/GANs/BrainTumorDetection/RESULTS_KAGGLE/RESULTS/brats_22_h_33.txt  \n",
            "  inflating: /content/drive/MyDrive/GANs/BrainTumorDetection/RESULTS_KAGGLE/RESULTS/brats_22_h_34.txt  \n",
            "  inflating: /content/drive/MyDrive/GANs/BrainTumorDetection/RESULTS_KAGGLE/RESULTS/brats_22_h_35.txt  \n",
            "  inflating: /content/drive/MyDrive/GANs/BrainTumorDetection/RESULTS_KAGGLE/RESULTS/brats_22_h_36.txt  \n",
            "  inflating: /content/drive/MyDrive/GANs/BrainTumorDetection/RESULTS_KAGGLE/RESULTS/brats_22_h_37.txt  \n",
            "  inflating: /content/drive/MyDrive/GANs/BrainTumorDetection/RESULTS_KAGGLE/RESULTS/brats_22_h_38.txt  \n",
            "  inflating: /content/drive/MyDrive/GANs/BrainTumorDetection/RESULTS_KAGGLE/RESULTS/brats_22_h_39.txt  \n",
            "  inflating: /content/drive/MyDrive/GANs/BrainTumorDetection/RESULTS_KAGGLE/RESULTS/brats_22_h_4.txt  \n",
            "  inflating: /content/drive/MyDrive/GANs/BrainTumorDetection/RESULTS_KAGGLE/RESULTS/brats_22_h_40.txt  \n",
            "  inflating: /content/drive/MyDrive/GANs/BrainTumorDetection/RESULTS_KAGGLE/RESULTS/brats_22_h_41.txt  \n",
            "  inflating: /content/drive/MyDrive/GANs/BrainTumorDetection/RESULTS_KAGGLE/RESULTS/brats_22_h_42.txt  \n",
            "  inflating: /content/drive/MyDrive/GANs/BrainTumorDetection/RESULTS_KAGGLE/RESULTS/brats_22_h_43.txt  \n",
            "  inflating: /content/drive/MyDrive/GANs/BrainTumorDetection/RESULTS_KAGGLE/RESULTS/brats_22_h_44.txt  \n",
            "  inflating: /content/drive/MyDrive/GANs/BrainTumorDetection/RESULTS_KAGGLE/RESULTS/brats_22_h_45.txt  \n",
            "  inflating: /content/drive/MyDrive/GANs/BrainTumorDetection/RESULTS_KAGGLE/RESULTS/brats_22_h_46.txt  \n",
            "  inflating: /content/drive/MyDrive/GANs/BrainTumorDetection/RESULTS_KAGGLE/RESULTS/brats_22_h_47.txt  \n",
            "  inflating: /content/drive/MyDrive/GANs/BrainTumorDetection/RESULTS_KAGGLE/RESULTS/brats_22_h_48.txt  \n",
            "  inflating: /content/drive/MyDrive/GANs/BrainTumorDetection/RESULTS_KAGGLE/RESULTS/brats_22_h_49.txt  \n",
            "  inflating: /content/drive/MyDrive/GANs/BrainTumorDetection/RESULTS_KAGGLE/RESULTS/brats_22_h_5.txt  \n",
            "  inflating: /content/drive/MyDrive/GANs/BrainTumorDetection/RESULTS_KAGGLE/RESULTS/brats_22_h_50.txt  \n",
            "  inflating: /content/drive/MyDrive/GANs/BrainTumorDetection/RESULTS_KAGGLE/RESULTS/brats_22_h_51.txt  \n",
            "  inflating: /content/drive/MyDrive/GANs/BrainTumorDetection/RESULTS_KAGGLE/RESULTS/brats_22_h_52.txt  \n",
            "  inflating: /content/drive/MyDrive/GANs/BrainTumorDetection/RESULTS_KAGGLE/RESULTS/brats_22_h_53.txt  \n",
            "  inflating: /content/drive/MyDrive/GANs/BrainTumorDetection/RESULTS_KAGGLE/RESULTS/brats_22_h_54.txt  \n",
            "  inflating: /content/drive/MyDrive/GANs/BrainTumorDetection/RESULTS_KAGGLE/RESULTS/brats_22_h_55.txt  \n",
            "  inflating: /content/drive/MyDrive/GANs/BrainTumorDetection/RESULTS_KAGGLE/RESULTS/brats_22_h_56.txt  \n",
            "  inflating: /content/drive/MyDrive/GANs/BrainTumorDetection/RESULTS_KAGGLE/RESULTS/brats_22_h_57.txt  \n",
            "  inflating: /content/drive/MyDrive/GANs/BrainTumorDetection/RESULTS_KAGGLE/RESULTS/brats_22_h_58.txt  \n",
            "  inflating: /content/drive/MyDrive/GANs/BrainTumorDetection/RESULTS_KAGGLE/RESULTS/brats_22_h_59.txt  \n",
            "  inflating: /content/drive/MyDrive/GANs/BrainTumorDetection/RESULTS_KAGGLE/RESULTS/brats_22_h_6.txt  \n",
            "  inflating: /content/drive/MyDrive/GANs/BrainTumorDetection/RESULTS_KAGGLE/RESULTS/brats_22_h_60.txt  \n",
            "  inflating: /content/drive/MyDrive/GANs/BrainTumorDetection/RESULTS_KAGGLE/RESULTS/brats_22_h_61.txt  \n",
            "  inflating: /content/drive/MyDrive/GANs/BrainTumorDetection/RESULTS_KAGGLE/RESULTS/brats_22_h_62.txt  \n",
            "  inflating: /content/drive/MyDrive/GANs/BrainTumorDetection/RESULTS_KAGGLE/RESULTS/brats_22_h_63.txt  \n",
            "  inflating: /content/drive/MyDrive/GANs/BrainTumorDetection/RESULTS_KAGGLE/RESULTS/brats_22_h_64.txt  \n",
            "  inflating: /content/drive/MyDrive/GANs/BrainTumorDetection/RESULTS_KAGGLE/RESULTS/brats_22_h_7.txt  \n",
            "  inflating: /content/drive/MyDrive/GANs/BrainTumorDetection/RESULTS_KAGGLE/RESULTS/brats_22_h_8.txt  \n",
            "  inflating: /content/drive/MyDrive/GANs/BrainTumorDetection/RESULTS_KAGGLE/RESULTS/brats_22_h_9.txt  \n"
          ]
        }
      ],
      "source": [
        "! unzip /content/results.zip -d /content/drive/MyDrive/GANs/BrainTumorDetection/RESULTS_KAGGLE/"
      ]
    },
    {
      "cell_type": "code",
      "execution_count": null,
      "metadata": {
        "colab": {
          "base_uri": "https://localhost:8080/"
        },
        "id": "7kmohSlgc3Sd",
        "outputId": "23582ba5-588f-49ea-ef4f-5cdcbc3c1099"
      },
      "outputs": [
        {
          "output_type": "stream",
          "name": "stdout",
          "text": [
            "renamed '/content/drive/MyDrive/GANs/BrainTumorDetection/RESULTS_KAGGLE/RESULTS/brats_22_Discriminator.h5' -> '/content/drive/MyDrive/GANs/BrainTumorDetection/RESULTS_KAGGLE/VERSION_brats_22/RESULTS_64/brats_22_Discriminator.h5'\n",
            "renamed '/content/drive/MyDrive/GANs/BrainTumorDetection/RESULTS_KAGGLE/RESULTS/brats_22_fit_output_10.txt' -> '/content/drive/MyDrive/GANs/BrainTumorDetection/RESULTS_KAGGLE/VERSION_brats_22/RESULTS_64/brats_22_fit_output_10.txt'\n",
            "renamed '/content/drive/MyDrive/GANs/BrainTumorDetection/RESULTS_KAGGLE/RESULTS/brats_22_fit_output_11.txt' -> '/content/drive/MyDrive/GANs/BrainTumorDetection/RESULTS_KAGGLE/VERSION_brats_22/RESULTS_64/brats_22_fit_output_11.txt'\n",
            "renamed '/content/drive/MyDrive/GANs/BrainTumorDetection/RESULTS_KAGGLE/RESULTS/brats_22_fit_output_12.txt' -> '/content/drive/MyDrive/GANs/BrainTumorDetection/RESULTS_KAGGLE/VERSION_brats_22/RESULTS_64/brats_22_fit_output_12.txt'\n",
            "renamed '/content/drive/MyDrive/GANs/BrainTumorDetection/RESULTS_KAGGLE/RESULTS/brats_22_fit_output_13.txt' -> '/content/drive/MyDrive/GANs/BrainTumorDetection/RESULTS_KAGGLE/VERSION_brats_22/RESULTS_64/brats_22_fit_output_13.txt'\n",
            "renamed '/content/drive/MyDrive/GANs/BrainTumorDetection/RESULTS_KAGGLE/RESULTS/brats_22_fit_output_14.txt' -> '/content/drive/MyDrive/GANs/BrainTumorDetection/RESULTS_KAGGLE/VERSION_brats_22/RESULTS_64/brats_22_fit_output_14.txt'\n",
            "renamed '/content/drive/MyDrive/GANs/BrainTumorDetection/RESULTS_KAGGLE/RESULTS/brats_22_fit_output_15.txt' -> '/content/drive/MyDrive/GANs/BrainTumorDetection/RESULTS_KAGGLE/VERSION_brats_22/RESULTS_64/brats_22_fit_output_15.txt'\n",
            "renamed '/content/drive/MyDrive/GANs/BrainTumorDetection/RESULTS_KAGGLE/RESULTS/brats_22_fit_output_16.txt' -> '/content/drive/MyDrive/GANs/BrainTumorDetection/RESULTS_KAGGLE/VERSION_brats_22/RESULTS_64/brats_22_fit_output_16.txt'\n",
            "renamed '/content/drive/MyDrive/GANs/BrainTumorDetection/RESULTS_KAGGLE/RESULTS/brats_22_fit_output_17.txt' -> '/content/drive/MyDrive/GANs/BrainTumorDetection/RESULTS_KAGGLE/VERSION_brats_22/RESULTS_64/brats_22_fit_output_17.txt'\n",
            "renamed '/content/drive/MyDrive/GANs/BrainTumorDetection/RESULTS_KAGGLE/RESULTS/brats_22_fit_output_18.txt' -> '/content/drive/MyDrive/GANs/BrainTumorDetection/RESULTS_KAGGLE/VERSION_brats_22/RESULTS_64/brats_22_fit_output_18.txt'\n",
            "renamed '/content/drive/MyDrive/GANs/BrainTumorDetection/RESULTS_KAGGLE/RESULTS/brats_22_fit_output_19.txt' -> '/content/drive/MyDrive/GANs/BrainTumorDetection/RESULTS_KAGGLE/VERSION_brats_22/RESULTS_64/brats_22_fit_output_19.txt'\n",
            "renamed '/content/drive/MyDrive/GANs/BrainTumorDetection/RESULTS_KAGGLE/RESULTS/brats_22_fit_output_1.txt' -> '/content/drive/MyDrive/GANs/BrainTumorDetection/RESULTS_KAGGLE/VERSION_brats_22/RESULTS_64/brats_22_fit_output_1.txt'\n",
            "renamed '/content/drive/MyDrive/GANs/BrainTumorDetection/RESULTS_KAGGLE/RESULTS/brats_22_fit_output_20.txt' -> '/content/drive/MyDrive/GANs/BrainTumorDetection/RESULTS_KAGGLE/VERSION_brats_22/RESULTS_64/brats_22_fit_output_20.txt'\n",
            "renamed '/content/drive/MyDrive/GANs/BrainTumorDetection/RESULTS_KAGGLE/RESULTS/brats_22_fit_output_21.txt' -> '/content/drive/MyDrive/GANs/BrainTumorDetection/RESULTS_KAGGLE/VERSION_brats_22/RESULTS_64/brats_22_fit_output_21.txt'\n",
            "renamed '/content/drive/MyDrive/GANs/BrainTumorDetection/RESULTS_KAGGLE/RESULTS/brats_22_fit_output_22.txt' -> '/content/drive/MyDrive/GANs/BrainTumorDetection/RESULTS_KAGGLE/VERSION_brats_22/RESULTS_64/brats_22_fit_output_22.txt'\n",
            "renamed '/content/drive/MyDrive/GANs/BrainTumorDetection/RESULTS_KAGGLE/RESULTS/brats_22_fit_output_23.txt' -> '/content/drive/MyDrive/GANs/BrainTumorDetection/RESULTS_KAGGLE/VERSION_brats_22/RESULTS_64/brats_22_fit_output_23.txt'\n",
            "renamed '/content/drive/MyDrive/GANs/BrainTumorDetection/RESULTS_KAGGLE/RESULTS/brats_22_fit_output_24.txt' -> '/content/drive/MyDrive/GANs/BrainTumorDetection/RESULTS_KAGGLE/VERSION_brats_22/RESULTS_64/brats_22_fit_output_24.txt'\n",
            "renamed '/content/drive/MyDrive/GANs/BrainTumorDetection/RESULTS_KAGGLE/RESULTS/brats_22_fit_output_25.txt' -> '/content/drive/MyDrive/GANs/BrainTumorDetection/RESULTS_KAGGLE/VERSION_brats_22/RESULTS_64/brats_22_fit_output_25.txt'\n",
            "renamed '/content/drive/MyDrive/GANs/BrainTumorDetection/RESULTS_KAGGLE/RESULTS/brats_22_fit_output_26.txt' -> '/content/drive/MyDrive/GANs/BrainTumorDetection/RESULTS_KAGGLE/VERSION_brats_22/RESULTS_64/brats_22_fit_output_26.txt'\n",
            "renamed '/content/drive/MyDrive/GANs/BrainTumorDetection/RESULTS_KAGGLE/RESULTS/brats_22_fit_output_27.txt' -> '/content/drive/MyDrive/GANs/BrainTumorDetection/RESULTS_KAGGLE/VERSION_brats_22/RESULTS_64/brats_22_fit_output_27.txt'\n",
            "renamed '/content/drive/MyDrive/GANs/BrainTumorDetection/RESULTS_KAGGLE/RESULTS/brats_22_fit_output_28.txt' -> '/content/drive/MyDrive/GANs/BrainTumorDetection/RESULTS_KAGGLE/VERSION_brats_22/RESULTS_64/brats_22_fit_output_28.txt'\n",
            "renamed '/content/drive/MyDrive/GANs/BrainTumorDetection/RESULTS_KAGGLE/RESULTS/brats_22_fit_output_29.txt' -> '/content/drive/MyDrive/GANs/BrainTumorDetection/RESULTS_KAGGLE/VERSION_brats_22/RESULTS_64/brats_22_fit_output_29.txt'\n",
            "renamed '/content/drive/MyDrive/GANs/BrainTumorDetection/RESULTS_KAGGLE/RESULTS/brats_22_fit_output_2.txt' -> '/content/drive/MyDrive/GANs/BrainTumorDetection/RESULTS_KAGGLE/VERSION_brats_22/RESULTS_64/brats_22_fit_output_2.txt'\n",
            "renamed '/content/drive/MyDrive/GANs/BrainTumorDetection/RESULTS_KAGGLE/RESULTS/brats_22_fit_output_30.txt' -> '/content/drive/MyDrive/GANs/BrainTumorDetection/RESULTS_KAGGLE/VERSION_brats_22/RESULTS_64/brats_22_fit_output_30.txt'\n",
            "renamed '/content/drive/MyDrive/GANs/BrainTumorDetection/RESULTS_KAGGLE/RESULTS/brats_22_fit_output_32.txt' -> '/content/drive/MyDrive/GANs/BrainTumorDetection/RESULTS_KAGGLE/VERSION_brats_22/RESULTS_64/brats_22_fit_output_32.txt'\n",
            "renamed '/content/drive/MyDrive/GANs/BrainTumorDetection/RESULTS_KAGGLE/RESULTS/brats_22_fit_output_33.txt' -> '/content/drive/MyDrive/GANs/BrainTumorDetection/RESULTS_KAGGLE/VERSION_brats_22/RESULTS_64/brats_22_fit_output_33.txt'\n",
            "renamed '/content/drive/MyDrive/GANs/BrainTumorDetection/RESULTS_KAGGLE/RESULTS/brats_22_fit_output_34.txt' -> '/content/drive/MyDrive/GANs/BrainTumorDetection/RESULTS_KAGGLE/VERSION_brats_22/RESULTS_64/brats_22_fit_output_34.txt'\n",
            "renamed '/content/drive/MyDrive/GANs/BrainTumorDetection/RESULTS_KAGGLE/RESULTS/brats_22_fit_output_35.txt' -> '/content/drive/MyDrive/GANs/BrainTumorDetection/RESULTS_KAGGLE/VERSION_brats_22/RESULTS_64/brats_22_fit_output_35.txt'\n",
            "renamed '/content/drive/MyDrive/GANs/BrainTumorDetection/RESULTS_KAGGLE/RESULTS/brats_22_fit_output_36.txt' -> '/content/drive/MyDrive/GANs/BrainTumorDetection/RESULTS_KAGGLE/VERSION_brats_22/RESULTS_64/brats_22_fit_output_36.txt'\n",
            "renamed '/content/drive/MyDrive/GANs/BrainTumorDetection/RESULTS_KAGGLE/RESULTS/brats_22_fit_output_37.txt' -> '/content/drive/MyDrive/GANs/BrainTumorDetection/RESULTS_KAGGLE/VERSION_brats_22/RESULTS_64/brats_22_fit_output_37.txt'\n",
            "renamed '/content/drive/MyDrive/GANs/BrainTumorDetection/RESULTS_KAGGLE/RESULTS/brats_22_fit_output_38.txt' -> '/content/drive/MyDrive/GANs/BrainTumorDetection/RESULTS_KAGGLE/VERSION_brats_22/RESULTS_64/brats_22_fit_output_38.txt'\n",
            "renamed '/content/drive/MyDrive/GANs/BrainTumorDetection/RESULTS_KAGGLE/RESULTS/brats_22_fit_output_39.txt' -> '/content/drive/MyDrive/GANs/BrainTumorDetection/RESULTS_KAGGLE/VERSION_brats_22/RESULTS_64/brats_22_fit_output_39.txt'\n",
            "renamed '/content/drive/MyDrive/GANs/BrainTumorDetection/RESULTS_KAGGLE/RESULTS/brats_22_fit_output_3.txt' -> '/content/drive/MyDrive/GANs/BrainTumorDetection/RESULTS_KAGGLE/VERSION_brats_22/RESULTS_64/brats_22_fit_output_3.txt'\n",
            "renamed '/content/drive/MyDrive/GANs/BrainTumorDetection/RESULTS_KAGGLE/RESULTS/brats_22_fit_output_40.txt' -> '/content/drive/MyDrive/GANs/BrainTumorDetection/RESULTS_KAGGLE/VERSION_brats_22/RESULTS_64/brats_22_fit_output_40.txt'\n",
            "renamed '/content/drive/MyDrive/GANs/BrainTumorDetection/RESULTS_KAGGLE/RESULTS/brats_22_fit_output_41.txt' -> '/content/drive/MyDrive/GANs/BrainTumorDetection/RESULTS_KAGGLE/VERSION_brats_22/RESULTS_64/brats_22_fit_output_41.txt'\n",
            "renamed '/content/drive/MyDrive/GANs/BrainTumorDetection/RESULTS_KAGGLE/RESULTS/brats_22_fit_output_42.txt' -> '/content/drive/MyDrive/GANs/BrainTumorDetection/RESULTS_KAGGLE/VERSION_brats_22/RESULTS_64/brats_22_fit_output_42.txt'\n",
            "renamed '/content/drive/MyDrive/GANs/BrainTumorDetection/RESULTS_KAGGLE/RESULTS/brats_22_fit_output_43.txt' -> '/content/drive/MyDrive/GANs/BrainTumorDetection/RESULTS_KAGGLE/VERSION_brats_22/RESULTS_64/brats_22_fit_output_43.txt'\n",
            "renamed '/content/drive/MyDrive/GANs/BrainTumorDetection/RESULTS_KAGGLE/RESULTS/brats_22_fit_output_44.txt' -> '/content/drive/MyDrive/GANs/BrainTumorDetection/RESULTS_KAGGLE/VERSION_brats_22/RESULTS_64/brats_22_fit_output_44.txt'\n",
            "renamed '/content/drive/MyDrive/GANs/BrainTumorDetection/RESULTS_KAGGLE/RESULTS/brats_22_fit_output_45.txt' -> '/content/drive/MyDrive/GANs/BrainTumorDetection/RESULTS_KAGGLE/VERSION_brats_22/RESULTS_64/brats_22_fit_output_45.txt'\n",
            "renamed '/content/drive/MyDrive/GANs/BrainTumorDetection/RESULTS_KAGGLE/RESULTS/brats_22_fit_output_46.txt' -> '/content/drive/MyDrive/GANs/BrainTumorDetection/RESULTS_KAGGLE/VERSION_brats_22/RESULTS_64/brats_22_fit_output_46.txt'\n",
            "renamed '/content/drive/MyDrive/GANs/BrainTumorDetection/RESULTS_KAGGLE/RESULTS/brats_22_fit_output_47.txt' -> '/content/drive/MyDrive/GANs/BrainTumorDetection/RESULTS_KAGGLE/VERSION_brats_22/RESULTS_64/brats_22_fit_output_47.txt'\n",
            "renamed '/content/drive/MyDrive/GANs/BrainTumorDetection/RESULTS_KAGGLE/RESULTS/brats_22_fit_output_48.txt' -> '/content/drive/MyDrive/GANs/BrainTumorDetection/RESULTS_KAGGLE/VERSION_brats_22/RESULTS_64/brats_22_fit_output_48.txt'\n",
            "renamed '/content/drive/MyDrive/GANs/BrainTumorDetection/RESULTS_KAGGLE/RESULTS/brats_22_fit_output_49.txt' -> '/content/drive/MyDrive/GANs/BrainTumorDetection/RESULTS_KAGGLE/VERSION_brats_22/RESULTS_64/brats_22_fit_output_49.txt'\n",
            "renamed '/content/drive/MyDrive/GANs/BrainTumorDetection/RESULTS_KAGGLE/RESULTS/brats_22_fit_output_4.txt' -> '/content/drive/MyDrive/GANs/BrainTumorDetection/RESULTS_KAGGLE/VERSION_brats_22/RESULTS_64/brats_22_fit_output_4.txt'\n",
            "renamed '/content/drive/MyDrive/GANs/BrainTumorDetection/RESULTS_KAGGLE/RESULTS/brats_22_fit_output_50.txt' -> '/content/drive/MyDrive/GANs/BrainTumorDetection/RESULTS_KAGGLE/VERSION_brats_22/RESULTS_64/brats_22_fit_output_50.txt'\n",
            "renamed '/content/drive/MyDrive/GANs/BrainTumorDetection/RESULTS_KAGGLE/RESULTS/brats_22_fit_output_51.txt' -> '/content/drive/MyDrive/GANs/BrainTumorDetection/RESULTS_KAGGLE/VERSION_brats_22/RESULTS_64/brats_22_fit_output_51.txt'\n",
            "renamed '/content/drive/MyDrive/GANs/BrainTumorDetection/RESULTS_KAGGLE/RESULTS/brats_22_fit_output_52.txt' -> '/content/drive/MyDrive/GANs/BrainTumorDetection/RESULTS_KAGGLE/VERSION_brats_22/RESULTS_64/brats_22_fit_output_52.txt'\n",
            "renamed '/content/drive/MyDrive/GANs/BrainTumorDetection/RESULTS_KAGGLE/RESULTS/brats_22_fit_output_53.txt' -> '/content/drive/MyDrive/GANs/BrainTumorDetection/RESULTS_KAGGLE/VERSION_brats_22/RESULTS_64/brats_22_fit_output_53.txt'\n",
            "renamed '/content/drive/MyDrive/GANs/BrainTumorDetection/RESULTS_KAGGLE/RESULTS/brats_22_fit_output_54.txt' -> '/content/drive/MyDrive/GANs/BrainTumorDetection/RESULTS_KAGGLE/VERSION_brats_22/RESULTS_64/brats_22_fit_output_54.txt'\n",
            "renamed '/content/drive/MyDrive/GANs/BrainTumorDetection/RESULTS_KAGGLE/RESULTS/brats_22_fit_output_55.txt' -> '/content/drive/MyDrive/GANs/BrainTumorDetection/RESULTS_KAGGLE/VERSION_brats_22/RESULTS_64/brats_22_fit_output_55.txt'\n",
            "renamed '/content/drive/MyDrive/GANs/BrainTumorDetection/RESULTS_KAGGLE/RESULTS/brats_22_fit_output_56.txt' -> '/content/drive/MyDrive/GANs/BrainTumorDetection/RESULTS_KAGGLE/VERSION_brats_22/RESULTS_64/brats_22_fit_output_56.txt'\n",
            "renamed '/content/drive/MyDrive/GANs/BrainTumorDetection/RESULTS_KAGGLE/RESULTS/brats_22_fit_output_57.txt' -> '/content/drive/MyDrive/GANs/BrainTumorDetection/RESULTS_KAGGLE/VERSION_brats_22/RESULTS_64/brats_22_fit_output_57.txt'\n",
            "renamed '/content/drive/MyDrive/GANs/BrainTumorDetection/RESULTS_KAGGLE/RESULTS/brats_22_fit_output_58.txt' -> '/content/drive/MyDrive/GANs/BrainTumorDetection/RESULTS_KAGGLE/VERSION_brats_22/RESULTS_64/brats_22_fit_output_58.txt'\n",
            "renamed '/content/drive/MyDrive/GANs/BrainTumorDetection/RESULTS_KAGGLE/RESULTS/brats_22_fit_output_59.txt' -> '/content/drive/MyDrive/GANs/BrainTumorDetection/RESULTS_KAGGLE/VERSION_brats_22/RESULTS_64/brats_22_fit_output_59.txt'\n",
            "renamed '/content/drive/MyDrive/GANs/BrainTumorDetection/RESULTS_KAGGLE/RESULTS/brats_22_fit_output_5.txt' -> '/content/drive/MyDrive/GANs/BrainTumorDetection/RESULTS_KAGGLE/VERSION_brats_22/RESULTS_64/brats_22_fit_output_5.txt'\n",
            "renamed '/content/drive/MyDrive/GANs/BrainTumorDetection/RESULTS_KAGGLE/RESULTS/brats_22_fit_output_60.txt' -> '/content/drive/MyDrive/GANs/BrainTumorDetection/RESULTS_KAGGLE/VERSION_brats_22/RESULTS_64/brats_22_fit_output_60.txt'\n",
            "renamed '/content/drive/MyDrive/GANs/BrainTumorDetection/RESULTS_KAGGLE/RESULTS/brats_22_fit_output_61.txt' -> '/content/drive/MyDrive/GANs/BrainTumorDetection/RESULTS_KAGGLE/VERSION_brats_22/RESULTS_64/brats_22_fit_output_61.txt'\n",
            "renamed '/content/drive/MyDrive/GANs/BrainTumorDetection/RESULTS_KAGGLE/RESULTS/brats_22_fit_output_62.txt' -> '/content/drive/MyDrive/GANs/BrainTumorDetection/RESULTS_KAGGLE/VERSION_brats_22/RESULTS_64/brats_22_fit_output_62.txt'\n",
            "renamed '/content/drive/MyDrive/GANs/BrainTumorDetection/RESULTS_KAGGLE/RESULTS/brats_22_fit_output_63.txt' -> '/content/drive/MyDrive/GANs/BrainTumorDetection/RESULTS_KAGGLE/VERSION_brats_22/RESULTS_64/brats_22_fit_output_63.txt'\n",
            "renamed '/content/drive/MyDrive/GANs/BrainTumorDetection/RESULTS_KAGGLE/RESULTS/brats_22_fit_output_64.txt' -> '/content/drive/MyDrive/GANs/BrainTumorDetection/RESULTS_KAGGLE/VERSION_brats_22/RESULTS_64/brats_22_fit_output_64.txt'\n",
            "renamed '/content/drive/MyDrive/GANs/BrainTumorDetection/RESULTS_KAGGLE/RESULTS/brats_22_fit_output_6.txt' -> '/content/drive/MyDrive/GANs/BrainTumorDetection/RESULTS_KAGGLE/VERSION_brats_22/RESULTS_64/brats_22_fit_output_6.txt'\n",
            "renamed '/content/drive/MyDrive/GANs/BrainTumorDetection/RESULTS_KAGGLE/RESULTS/brats_22_fit_output_7.txt' -> '/content/drive/MyDrive/GANs/BrainTumorDetection/RESULTS_KAGGLE/VERSION_brats_22/RESULTS_64/brats_22_fit_output_7.txt'\n",
            "renamed '/content/drive/MyDrive/GANs/BrainTumorDetection/RESULTS_KAGGLE/RESULTS/brats_22_fit_output_8.txt' -> '/content/drive/MyDrive/GANs/BrainTumorDetection/RESULTS_KAGGLE/VERSION_brats_22/RESULTS_64/brats_22_fit_output_8.txt'\n",
            "renamed '/content/drive/MyDrive/GANs/BrainTumorDetection/RESULTS_KAGGLE/RESULTS/brats_22_fit_output_9.txt' -> '/content/drive/MyDrive/GANs/BrainTumorDetection/RESULTS_KAGGLE/VERSION_brats_22/RESULTS_64/brats_22_fit_output_9.txt'\n",
            "renamed '/content/drive/MyDrive/GANs/BrainTumorDetection/RESULTS_KAGGLE/RESULTS/brats_22_Generator.h5' -> '/content/drive/MyDrive/GANs/BrainTumorDetection/RESULTS_KAGGLE/VERSION_brats_22/RESULTS_64/brats_22_Generator.h5'\n",
            "renamed '/content/drive/MyDrive/GANs/BrainTumorDetection/RESULTS_KAGGLE/RESULTS/brats_22_h_10.txt' -> '/content/drive/MyDrive/GANs/BrainTumorDetection/RESULTS_KAGGLE/VERSION_brats_22/RESULTS_64/brats_22_h_10.txt'\n",
            "renamed '/content/drive/MyDrive/GANs/BrainTumorDetection/RESULTS_KAGGLE/RESULTS/brats_22_h_11.txt' -> '/content/drive/MyDrive/GANs/BrainTumorDetection/RESULTS_KAGGLE/VERSION_brats_22/RESULTS_64/brats_22_h_11.txt'\n",
            "renamed '/content/drive/MyDrive/GANs/BrainTumorDetection/RESULTS_KAGGLE/RESULTS/brats_22_h_12.txt' -> '/content/drive/MyDrive/GANs/BrainTumorDetection/RESULTS_KAGGLE/VERSION_brats_22/RESULTS_64/brats_22_h_12.txt'\n",
            "renamed '/content/drive/MyDrive/GANs/BrainTumorDetection/RESULTS_KAGGLE/RESULTS/brats_22_h_13.txt' -> '/content/drive/MyDrive/GANs/BrainTumorDetection/RESULTS_KAGGLE/VERSION_brats_22/RESULTS_64/brats_22_h_13.txt'\n",
            "renamed '/content/drive/MyDrive/GANs/BrainTumorDetection/RESULTS_KAGGLE/RESULTS/brats_22_h_14.txt' -> '/content/drive/MyDrive/GANs/BrainTumorDetection/RESULTS_KAGGLE/VERSION_brats_22/RESULTS_64/brats_22_h_14.txt'\n",
            "renamed '/content/drive/MyDrive/GANs/BrainTumorDetection/RESULTS_KAGGLE/RESULTS/brats_22_h_15.txt' -> '/content/drive/MyDrive/GANs/BrainTumorDetection/RESULTS_KAGGLE/VERSION_brats_22/RESULTS_64/brats_22_h_15.txt'\n",
            "renamed '/content/drive/MyDrive/GANs/BrainTumorDetection/RESULTS_KAGGLE/RESULTS/brats_22_h_16.txt' -> '/content/drive/MyDrive/GANs/BrainTumorDetection/RESULTS_KAGGLE/VERSION_brats_22/RESULTS_64/brats_22_h_16.txt'\n",
            "renamed '/content/drive/MyDrive/GANs/BrainTumorDetection/RESULTS_KAGGLE/RESULTS/brats_22_h_17.txt' -> '/content/drive/MyDrive/GANs/BrainTumorDetection/RESULTS_KAGGLE/VERSION_brats_22/RESULTS_64/brats_22_h_17.txt'\n",
            "renamed '/content/drive/MyDrive/GANs/BrainTumorDetection/RESULTS_KAGGLE/RESULTS/brats_22_h_18.txt' -> '/content/drive/MyDrive/GANs/BrainTumorDetection/RESULTS_KAGGLE/VERSION_brats_22/RESULTS_64/brats_22_h_18.txt'\n",
            "renamed '/content/drive/MyDrive/GANs/BrainTumorDetection/RESULTS_KAGGLE/RESULTS/brats_22_h_19.txt' -> '/content/drive/MyDrive/GANs/BrainTumorDetection/RESULTS_KAGGLE/VERSION_brats_22/RESULTS_64/brats_22_h_19.txt'\n",
            "renamed '/content/drive/MyDrive/GANs/BrainTumorDetection/RESULTS_KAGGLE/RESULTS/brats_22_h_1.txt' -> '/content/drive/MyDrive/GANs/BrainTumorDetection/RESULTS_KAGGLE/VERSION_brats_22/RESULTS_64/brats_22_h_1.txt'\n",
            "renamed '/content/drive/MyDrive/GANs/BrainTumorDetection/RESULTS_KAGGLE/RESULTS/brats_22_h_20.txt' -> '/content/drive/MyDrive/GANs/BrainTumorDetection/RESULTS_KAGGLE/VERSION_brats_22/RESULTS_64/brats_22_h_20.txt'\n",
            "renamed '/content/drive/MyDrive/GANs/BrainTumorDetection/RESULTS_KAGGLE/RESULTS/brats_22_h_21.txt' -> '/content/drive/MyDrive/GANs/BrainTumorDetection/RESULTS_KAGGLE/VERSION_brats_22/RESULTS_64/brats_22_h_21.txt'\n",
            "renamed '/content/drive/MyDrive/GANs/BrainTumorDetection/RESULTS_KAGGLE/RESULTS/brats_22_h_22.txt' -> '/content/drive/MyDrive/GANs/BrainTumorDetection/RESULTS_KAGGLE/VERSION_brats_22/RESULTS_64/brats_22_h_22.txt'\n",
            "renamed '/content/drive/MyDrive/GANs/BrainTumorDetection/RESULTS_KAGGLE/RESULTS/brats_22_h_23.txt' -> '/content/drive/MyDrive/GANs/BrainTumorDetection/RESULTS_KAGGLE/VERSION_brats_22/RESULTS_64/brats_22_h_23.txt'\n",
            "renamed '/content/drive/MyDrive/GANs/BrainTumorDetection/RESULTS_KAGGLE/RESULTS/brats_22_h_24.txt' -> '/content/drive/MyDrive/GANs/BrainTumorDetection/RESULTS_KAGGLE/VERSION_brats_22/RESULTS_64/brats_22_h_24.txt'\n",
            "renamed '/content/drive/MyDrive/GANs/BrainTumorDetection/RESULTS_KAGGLE/RESULTS/brats_22_h_25.txt' -> '/content/drive/MyDrive/GANs/BrainTumorDetection/RESULTS_KAGGLE/VERSION_brats_22/RESULTS_64/brats_22_h_25.txt'\n",
            "renamed '/content/drive/MyDrive/GANs/BrainTumorDetection/RESULTS_KAGGLE/RESULTS/brats_22_h_26.txt' -> '/content/drive/MyDrive/GANs/BrainTumorDetection/RESULTS_KAGGLE/VERSION_brats_22/RESULTS_64/brats_22_h_26.txt'\n",
            "renamed '/content/drive/MyDrive/GANs/BrainTumorDetection/RESULTS_KAGGLE/RESULTS/brats_22_h_27.txt' -> '/content/drive/MyDrive/GANs/BrainTumorDetection/RESULTS_KAGGLE/VERSION_brats_22/RESULTS_64/brats_22_h_27.txt'\n",
            "renamed '/content/drive/MyDrive/GANs/BrainTumorDetection/RESULTS_KAGGLE/RESULTS/brats_22_h_28.txt' -> '/content/drive/MyDrive/GANs/BrainTumorDetection/RESULTS_KAGGLE/VERSION_brats_22/RESULTS_64/brats_22_h_28.txt'\n",
            "renamed '/content/drive/MyDrive/GANs/BrainTumorDetection/RESULTS_KAGGLE/RESULTS/brats_22_h_29.txt' -> '/content/drive/MyDrive/GANs/BrainTumorDetection/RESULTS_KAGGLE/VERSION_brats_22/RESULTS_64/brats_22_h_29.txt'\n",
            "renamed '/content/drive/MyDrive/GANs/BrainTumorDetection/RESULTS_KAGGLE/RESULTS/brats_22_h_2.txt' -> '/content/drive/MyDrive/GANs/BrainTumorDetection/RESULTS_KAGGLE/VERSION_brats_22/RESULTS_64/brats_22_h_2.txt'\n",
            "renamed '/content/drive/MyDrive/GANs/BrainTumorDetection/RESULTS_KAGGLE/RESULTS/brats_22_h_30.txt' -> '/content/drive/MyDrive/GANs/BrainTumorDetection/RESULTS_KAGGLE/VERSION_brats_22/RESULTS_64/brats_22_h_30.txt'\n",
            "renamed '/content/drive/MyDrive/GANs/BrainTumorDetection/RESULTS_KAGGLE/RESULTS/brats_22_h_32.txt' -> '/content/drive/MyDrive/GANs/BrainTumorDetection/RESULTS_KAGGLE/VERSION_brats_22/RESULTS_64/brats_22_h_32.txt'\n",
            "renamed '/content/drive/MyDrive/GANs/BrainTumorDetection/RESULTS_KAGGLE/RESULTS/brats_22_h_33.txt' -> '/content/drive/MyDrive/GANs/BrainTumorDetection/RESULTS_KAGGLE/VERSION_brats_22/RESULTS_64/brats_22_h_33.txt'\n",
            "renamed '/content/drive/MyDrive/GANs/BrainTumorDetection/RESULTS_KAGGLE/RESULTS/brats_22_h_34.txt' -> '/content/drive/MyDrive/GANs/BrainTumorDetection/RESULTS_KAGGLE/VERSION_brats_22/RESULTS_64/brats_22_h_34.txt'\n",
            "renamed '/content/drive/MyDrive/GANs/BrainTumorDetection/RESULTS_KAGGLE/RESULTS/brats_22_h_35.txt' -> '/content/drive/MyDrive/GANs/BrainTumorDetection/RESULTS_KAGGLE/VERSION_brats_22/RESULTS_64/brats_22_h_35.txt'\n",
            "renamed '/content/drive/MyDrive/GANs/BrainTumorDetection/RESULTS_KAGGLE/RESULTS/brats_22_h_36.txt' -> '/content/drive/MyDrive/GANs/BrainTumorDetection/RESULTS_KAGGLE/VERSION_brats_22/RESULTS_64/brats_22_h_36.txt'\n",
            "renamed '/content/drive/MyDrive/GANs/BrainTumorDetection/RESULTS_KAGGLE/RESULTS/brats_22_h_37.txt' -> '/content/drive/MyDrive/GANs/BrainTumorDetection/RESULTS_KAGGLE/VERSION_brats_22/RESULTS_64/brats_22_h_37.txt'\n",
            "renamed '/content/drive/MyDrive/GANs/BrainTumorDetection/RESULTS_KAGGLE/RESULTS/brats_22_h_38.txt' -> '/content/drive/MyDrive/GANs/BrainTumorDetection/RESULTS_KAGGLE/VERSION_brats_22/RESULTS_64/brats_22_h_38.txt'\n",
            "renamed '/content/drive/MyDrive/GANs/BrainTumorDetection/RESULTS_KAGGLE/RESULTS/brats_22_h_39.txt' -> '/content/drive/MyDrive/GANs/BrainTumorDetection/RESULTS_KAGGLE/VERSION_brats_22/RESULTS_64/brats_22_h_39.txt'\n",
            "renamed '/content/drive/MyDrive/GANs/BrainTumorDetection/RESULTS_KAGGLE/RESULTS/brats_22_h_3.txt' -> '/content/drive/MyDrive/GANs/BrainTumorDetection/RESULTS_KAGGLE/VERSION_brats_22/RESULTS_64/brats_22_h_3.txt'\n",
            "renamed '/content/drive/MyDrive/GANs/BrainTumorDetection/RESULTS_KAGGLE/RESULTS/brats_22_h_40.txt' -> '/content/drive/MyDrive/GANs/BrainTumorDetection/RESULTS_KAGGLE/VERSION_brats_22/RESULTS_64/brats_22_h_40.txt'\n",
            "renamed '/content/drive/MyDrive/GANs/BrainTumorDetection/RESULTS_KAGGLE/RESULTS/brats_22_h_41.txt' -> '/content/drive/MyDrive/GANs/BrainTumorDetection/RESULTS_KAGGLE/VERSION_brats_22/RESULTS_64/brats_22_h_41.txt'\n",
            "renamed '/content/drive/MyDrive/GANs/BrainTumorDetection/RESULTS_KAGGLE/RESULTS/brats_22_h_42.txt' -> '/content/drive/MyDrive/GANs/BrainTumorDetection/RESULTS_KAGGLE/VERSION_brats_22/RESULTS_64/brats_22_h_42.txt'\n",
            "renamed '/content/drive/MyDrive/GANs/BrainTumorDetection/RESULTS_KAGGLE/RESULTS/brats_22_h_43.txt' -> '/content/drive/MyDrive/GANs/BrainTumorDetection/RESULTS_KAGGLE/VERSION_brats_22/RESULTS_64/brats_22_h_43.txt'\n",
            "renamed '/content/drive/MyDrive/GANs/BrainTumorDetection/RESULTS_KAGGLE/RESULTS/brats_22_h_44.txt' -> '/content/drive/MyDrive/GANs/BrainTumorDetection/RESULTS_KAGGLE/VERSION_brats_22/RESULTS_64/brats_22_h_44.txt'\n",
            "renamed '/content/drive/MyDrive/GANs/BrainTumorDetection/RESULTS_KAGGLE/RESULTS/brats_22_h_45.txt' -> '/content/drive/MyDrive/GANs/BrainTumorDetection/RESULTS_KAGGLE/VERSION_brats_22/RESULTS_64/brats_22_h_45.txt'\n",
            "renamed '/content/drive/MyDrive/GANs/BrainTumorDetection/RESULTS_KAGGLE/RESULTS/brats_22_h_46.txt' -> '/content/drive/MyDrive/GANs/BrainTumorDetection/RESULTS_KAGGLE/VERSION_brats_22/RESULTS_64/brats_22_h_46.txt'\n",
            "renamed '/content/drive/MyDrive/GANs/BrainTumorDetection/RESULTS_KAGGLE/RESULTS/brats_22_h_47.txt' -> '/content/drive/MyDrive/GANs/BrainTumorDetection/RESULTS_KAGGLE/VERSION_brats_22/RESULTS_64/brats_22_h_47.txt'\n",
            "renamed '/content/drive/MyDrive/GANs/BrainTumorDetection/RESULTS_KAGGLE/RESULTS/brats_22_h_48.txt' -> '/content/drive/MyDrive/GANs/BrainTumorDetection/RESULTS_KAGGLE/VERSION_brats_22/RESULTS_64/brats_22_h_48.txt'\n",
            "renamed '/content/drive/MyDrive/GANs/BrainTumorDetection/RESULTS_KAGGLE/RESULTS/brats_22_h_49.txt' -> '/content/drive/MyDrive/GANs/BrainTumorDetection/RESULTS_KAGGLE/VERSION_brats_22/RESULTS_64/brats_22_h_49.txt'\n",
            "renamed '/content/drive/MyDrive/GANs/BrainTumorDetection/RESULTS_KAGGLE/RESULTS/brats_22_h_4.txt' -> '/content/drive/MyDrive/GANs/BrainTumorDetection/RESULTS_KAGGLE/VERSION_brats_22/RESULTS_64/brats_22_h_4.txt'\n",
            "renamed '/content/drive/MyDrive/GANs/BrainTumorDetection/RESULTS_KAGGLE/RESULTS/brats_22_h_50.txt' -> '/content/drive/MyDrive/GANs/BrainTumorDetection/RESULTS_KAGGLE/VERSION_brats_22/RESULTS_64/brats_22_h_50.txt'\n",
            "renamed '/content/drive/MyDrive/GANs/BrainTumorDetection/RESULTS_KAGGLE/RESULTS/brats_22_h_51.txt' -> '/content/drive/MyDrive/GANs/BrainTumorDetection/RESULTS_KAGGLE/VERSION_brats_22/RESULTS_64/brats_22_h_51.txt'\n",
            "renamed '/content/drive/MyDrive/GANs/BrainTumorDetection/RESULTS_KAGGLE/RESULTS/brats_22_h_52.txt' -> '/content/drive/MyDrive/GANs/BrainTumorDetection/RESULTS_KAGGLE/VERSION_brats_22/RESULTS_64/brats_22_h_52.txt'\n",
            "renamed '/content/drive/MyDrive/GANs/BrainTumorDetection/RESULTS_KAGGLE/RESULTS/brats_22_h_53.txt' -> '/content/drive/MyDrive/GANs/BrainTumorDetection/RESULTS_KAGGLE/VERSION_brats_22/RESULTS_64/brats_22_h_53.txt'\n",
            "renamed '/content/drive/MyDrive/GANs/BrainTumorDetection/RESULTS_KAGGLE/RESULTS/brats_22_h_54.txt' -> '/content/drive/MyDrive/GANs/BrainTumorDetection/RESULTS_KAGGLE/VERSION_brats_22/RESULTS_64/brats_22_h_54.txt'\n",
            "renamed '/content/drive/MyDrive/GANs/BrainTumorDetection/RESULTS_KAGGLE/RESULTS/brats_22_h_55.txt' -> '/content/drive/MyDrive/GANs/BrainTumorDetection/RESULTS_KAGGLE/VERSION_brats_22/RESULTS_64/brats_22_h_55.txt'\n",
            "renamed '/content/drive/MyDrive/GANs/BrainTumorDetection/RESULTS_KAGGLE/RESULTS/brats_22_h_56.txt' -> '/content/drive/MyDrive/GANs/BrainTumorDetection/RESULTS_KAGGLE/VERSION_brats_22/RESULTS_64/brats_22_h_56.txt'\n",
            "renamed '/content/drive/MyDrive/GANs/BrainTumorDetection/RESULTS_KAGGLE/RESULTS/brats_22_h_57.txt' -> '/content/drive/MyDrive/GANs/BrainTumorDetection/RESULTS_KAGGLE/VERSION_brats_22/RESULTS_64/brats_22_h_57.txt'\n",
            "renamed '/content/drive/MyDrive/GANs/BrainTumorDetection/RESULTS_KAGGLE/RESULTS/brats_22_h_58.txt' -> '/content/drive/MyDrive/GANs/BrainTumorDetection/RESULTS_KAGGLE/VERSION_brats_22/RESULTS_64/brats_22_h_58.txt'\n",
            "renamed '/content/drive/MyDrive/GANs/BrainTumorDetection/RESULTS_KAGGLE/RESULTS/brats_22_h_59.txt' -> '/content/drive/MyDrive/GANs/BrainTumorDetection/RESULTS_KAGGLE/VERSION_brats_22/RESULTS_64/brats_22_h_59.txt'\n",
            "renamed '/content/drive/MyDrive/GANs/BrainTumorDetection/RESULTS_KAGGLE/RESULTS/brats_22_h_5.txt' -> '/content/drive/MyDrive/GANs/BrainTumorDetection/RESULTS_KAGGLE/VERSION_brats_22/RESULTS_64/brats_22_h_5.txt'\n",
            "renamed '/content/drive/MyDrive/GANs/BrainTumorDetection/RESULTS_KAGGLE/RESULTS/brats_22_h_60.txt' -> '/content/drive/MyDrive/GANs/BrainTumorDetection/RESULTS_KAGGLE/VERSION_brats_22/RESULTS_64/brats_22_h_60.txt'\n",
            "renamed '/content/drive/MyDrive/GANs/BrainTumorDetection/RESULTS_KAGGLE/RESULTS/brats_22_h_61.txt' -> '/content/drive/MyDrive/GANs/BrainTumorDetection/RESULTS_KAGGLE/VERSION_brats_22/RESULTS_64/brats_22_h_61.txt'\n",
            "renamed '/content/drive/MyDrive/GANs/BrainTumorDetection/RESULTS_KAGGLE/RESULTS/brats_22_h_62.txt' -> '/content/drive/MyDrive/GANs/BrainTumorDetection/RESULTS_KAGGLE/VERSION_brats_22/RESULTS_64/brats_22_h_62.txt'\n",
            "renamed '/content/drive/MyDrive/GANs/BrainTumorDetection/RESULTS_KAGGLE/RESULTS/brats_22_h_63.txt' -> '/content/drive/MyDrive/GANs/BrainTumorDetection/RESULTS_KAGGLE/VERSION_brats_22/RESULTS_64/brats_22_h_63.txt'\n",
            "renamed '/content/drive/MyDrive/GANs/BrainTumorDetection/RESULTS_KAGGLE/RESULTS/brats_22_h_64.txt' -> '/content/drive/MyDrive/GANs/BrainTumorDetection/RESULTS_KAGGLE/VERSION_brats_22/RESULTS_64/brats_22_h_64.txt'\n",
            "renamed '/content/drive/MyDrive/GANs/BrainTumorDetection/RESULTS_KAGGLE/RESULTS/brats_22_h_6.txt' -> '/content/drive/MyDrive/GANs/BrainTumorDetection/RESULTS_KAGGLE/VERSION_brats_22/RESULTS_64/brats_22_h_6.txt'\n",
            "renamed '/content/drive/MyDrive/GANs/BrainTumorDetection/RESULTS_KAGGLE/RESULTS/brats_22_h_7.txt' -> '/content/drive/MyDrive/GANs/BrainTumorDetection/RESULTS_KAGGLE/VERSION_brats_22/RESULTS_64/brats_22_h_7.txt'\n",
            "renamed '/content/drive/MyDrive/GANs/BrainTumorDetection/RESULTS_KAGGLE/RESULTS/brats_22_h_8.txt' -> '/content/drive/MyDrive/GANs/BrainTumorDetection/RESULTS_KAGGLE/VERSION_brats_22/RESULTS_64/brats_22_h_8.txt'\n",
            "renamed '/content/drive/MyDrive/GANs/BrainTumorDetection/RESULTS_KAGGLE/RESULTS/brats_22_h_9.txt' -> '/content/drive/MyDrive/GANs/BrainTumorDetection/RESULTS_KAGGLE/VERSION_brats_22/RESULTS_64/brats_22_h_9.txt'\n"
          ]
        }
      ],
      "source": [
        "! mv -v /content/drive/MyDrive/GANs/BrainTumorDetection/RESULTS_KAGGLE/RESULTS/* $EXEC_PATH"
      ]
    },
    {
      "cell_type": "code",
      "execution_count": null,
      "metadata": {
        "id": "lE-iICa1dXVf"
      },
      "outputs": [],
      "source": [
        "! rm -rf /content/drive/MyDrive/GANs/BrainTumorDetection/RESULTS_KAGGLE/RESULTS/"
      ]
    },
    {
      "cell_type": "code",
      "execution_count": null,
      "metadata": {
        "id": "ZAeLkgaxVVoa"
      },
      "outputs": [],
      "source": [
        "# ! mv -v /content/drive/MyDrive/GANs/BrainTumorDetection/RESULTS_KAGGLE/* $VERSION_PATH"
      ]
    },
    {
      "cell_type": "markdown",
      "metadata": {
        "id": "jb23yP89cWwc"
      },
      "source": [
        "# Zipping /RESULTS"
      ]
    },
    {
      "cell_type": "code",
      "execution_count": null,
      "metadata": {
        "id": "i5DBMow8YJ_B"
      },
      "outputs": [],
      "source": [
        "EXEC = 3\n",
        "VERSION = 'train_brats21'"
      ]
    },
    {
      "cell_type": "code",
      "execution_count": null,
      "metadata": {
        "id": "B0xijz6UYYYh"
      },
      "outputs": [],
      "source": [
        "EXEC_PATH = f'/content/drive/MyDrive/GANs/BrainTumorDetection/RESULTS_KAGGLE/VERSION_{VERSION}/RESULTS_{EXEC}/*'"
      ]
    },
    {
      "cell_type": "code",
      "execution_count": null,
      "metadata": {
        "colab": {
          "base_uri": "https://localhost:8080/"
        },
        "id": "SOKmdjQzcC9V",
        "outputId": "49e4d7e1-6516-4ae9-98c9-6271789c98a3"
      },
      "outputs": [
        {
          "output_type": "stream",
          "name": "stdout",
          "text": [
            "  adding: content/drive/MyDrive/GANs/BrainTumorDetection/RESULTS_KAGGLE/VERSION_brats_22/RESULTS_64/brats_22_Discriminator.h5 (deflated 8%)\n",
            "  adding: content/drive/MyDrive/GANs/BrainTumorDetection/RESULTS_KAGGLE/VERSION_brats_22/RESULTS_64/brats_22_fit_output_10.txt (deflated 86%)\n",
            "  adding: content/drive/MyDrive/GANs/BrainTumorDetection/RESULTS_KAGGLE/VERSION_brats_22/RESULTS_64/brats_22_fit_output_11.txt (deflated 87%)\n",
            "  adding: content/drive/MyDrive/GANs/BrainTumorDetection/RESULTS_KAGGLE/VERSION_brats_22/RESULTS_64/brats_22_fit_output_12.txt (deflated 86%)\n",
            "  adding: content/drive/MyDrive/GANs/BrainTumorDetection/RESULTS_KAGGLE/VERSION_brats_22/RESULTS_64/brats_22_fit_output_13.txt (deflated 86%)\n",
            "  adding: content/drive/MyDrive/GANs/BrainTumorDetection/RESULTS_KAGGLE/VERSION_brats_22/RESULTS_64/brats_22_fit_output_14.txt (deflated 86%)\n",
            "  adding: content/drive/MyDrive/GANs/BrainTumorDetection/RESULTS_KAGGLE/VERSION_brats_22/RESULTS_64/brats_22_fit_output_15.txt (deflated 87%)\n",
            "  adding: content/drive/MyDrive/GANs/BrainTumorDetection/RESULTS_KAGGLE/VERSION_brats_22/RESULTS_64/brats_22_fit_output_16.txt (deflated 86%)\n",
            "  adding: content/drive/MyDrive/GANs/BrainTumorDetection/RESULTS_KAGGLE/VERSION_brats_22/RESULTS_64/brats_22_fit_output_17.txt (deflated 87%)\n",
            "  adding: content/drive/MyDrive/GANs/BrainTumorDetection/RESULTS_KAGGLE/VERSION_brats_22/RESULTS_64/brats_22_fit_output_18.txt (deflated 87%)\n",
            "  adding: content/drive/MyDrive/GANs/BrainTumorDetection/RESULTS_KAGGLE/VERSION_brats_22/RESULTS_64/brats_22_fit_output_19.txt (deflated 87%)\n",
            "  adding: content/drive/MyDrive/GANs/BrainTumorDetection/RESULTS_KAGGLE/VERSION_brats_22/RESULTS_64/brats_22_fit_output_1.txt (deflated 84%)\n",
            "  adding: content/drive/MyDrive/GANs/BrainTumorDetection/RESULTS_KAGGLE/VERSION_brats_22/RESULTS_64/brats_22_fit_output_20.txt (deflated 86%)\n",
            "  adding: content/drive/MyDrive/GANs/BrainTumorDetection/RESULTS_KAGGLE/VERSION_brats_22/RESULTS_64/brats_22_fit_output_21.txt (deflated 87%)\n",
            "  adding: content/drive/MyDrive/GANs/BrainTumorDetection/RESULTS_KAGGLE/VERSION_brats_22/RESULTS_64/brats_22_fit_output_22.txt (deflated 87%)\n",
            "  adding: content/drive/MyDrive/GANs/BrainTumorDetection/RESULTS_KAGGLE/VERSION_brats_22/RESULTS_64/brats_22_fit_output_23.txt (deflated 87%)\n",
            "  adding: content/drive/MyDrive/GANs/BrainTumorDetection/RESULTS_KAGGLE/VERSION_brats_22/RESULTS_64/brats_22_fit_output_24.txt (deflated 87%)\n",
            "  adding: content/drive/MyDrive/GANs/BrainTumorDetection/RESULTS_KAGGLE/VERSION_brats_22/RESULTS_64/brats_22_fit_output_25.txt (deflated 87%)\n",
            "  adding: content/drive/MyDrive/GANs/BrainTumorDetection/RESULTS_KAGGLE/VERSION_brats_22/RESULTS_64/brats_22_fit_output_26.txt (deflated 87%)\n",
            "  adding: content/drive/MyDrive/GANs/BrainTumorDetection/RESULTS_KAGGLE/VERSION_brats_22/RESULTS_64/brats_22_fit_output_27.txt (deflated 87%)\n",
            "  adding: content/drive/MyDrive/GANs/BrainTumorDetection/RESULTS_KAGGLE/VERSION_brats_22/RESULTS_64/brats_22_fit_output_28.txt (deflated 87%)\n",
            "  adding: content/drive/MyDrive/GANs/BrainTumorDetection/RESULTS_KAGGLE/VERSION_brats_22/RESULTS_64/brats_22_fit_output_29.txt (deflated 87%)\n",
            "  adding: content/drive/MyDrive/GANs/BrainTumorDetection/RESULTS_KAGGLE/VERSION_brats_22/RESULTS_64/brats_22_fit_output_2.txt (deflated 86%)\n",
            "  adding: content/drive/MyDrive/GANs/BrainTumorDetection/RESULTS_KAGGLE/VERSION_brats_22/RESULTS_64/brats_22_fit_output_30.txt (deflated 87%)\n",
            "  adding: content/drive/MyDrive/GANs/BrainTumorDetection/RESULTS_KAGGLE/VERSION_brats_22/RESULTS_64/brats_22_fit_output_32.txt (deflated 87%)\n",
            "  adding: content/drive/MyDrive/GANs/BrainTumorDetection/RESULTS_KAGGLE/VERSION_brats_22/RESULTS_64/brats_22_fit_output_33.txt (deflated 87%)\n",
            "  adding: content/drive/MyDrive/GANs/BrainTumorDetection/RESULTS_KAGGLE/VERSION_brats_22/RESULTS_64/brats_22_fit_output_34.txt (deflated 87%)\n",
            "  adding: content/drive/MyDrive/GANs/BrainTumorDetection/RESULTS_KAGGLE/VERSION_brats_22/RESULTS_64/brats_22_fit_output_35.txt (deflated 87%)\n",
            "  adding: content/drive/MyDrive/GANs/BrainTumorDetection/RESULTS_KAGGLE/VERSION_brats_22/RESULTS_64/brats_22_fit_output_36.txt (deflated 88%)\n",
            "  adding: content/drive/MyDrive/GANs/BrainTumorDetection/RESULTS_KAGGLE/VERSION_brats_22/RESULTS_64/brats_22_fit_output_37.txt (deflated 87%)\n",
            "  adding: content/drive/MyDrive/GANs/BrainTumorDetection/RESULTS_KAGGLE/VERSION_brats_22/RESULTS_64/brats_22_fit_output_38.txt (deflated 87%)\n",
            "  adding: content/drive/MyDrive/GANs/BrainTumorDetection/RESULTS_KAGGLE/VERSION_brats_22/RESULTS_64/brats_22_fit_output_39.txt (deflated 88%)\n",
            "  adding: content/drive/MyDrive/GANs/BrainTumorDetection/RESULTS_KAGGLE/VERSION_brats_22/RESULTS_64/brats_22_fit_output_3.txt (deflated 86%)\n",
            "  adding: content/drive/MyDrive/GANs/BrainTumorDetection/RESULTS_KAGGLE/VERSION_brats_22/RESULTS_64/brats_22_fit_output_40.txt (deflated 88%)\n",
            "  adding: content/drive/MyDrive/GANs/BrainTumorDetection/RESULTS_KAGGLE/VERSION_brats_22/RESULTS_64/brats_22_fit_output_41.txt (deflated 87%)\n",
            "  adding: content/drive/MyDrive/GANs/BrainTumorDetection/RESULTS_KAGGLE/VERSION_brats_22/RESULTS_64/brats_22_fit_output_42.txt (deflated 92%)\n",
            "  adding: content/drive/MyDrive/GANs/BrainTumorDetection/RESULTS_KAGGLE/VERSION_brats_22/RESULTS_64/brats_22_fit_output_43.txt (deflated 92%)\n",
            "  adding: content/drive/MyDrive/GANs/BrainTumorDetection/RESULTS_KAGGLE/VERSION_brats_22/RESULTS_64/brats_22_fit_output_44.txt (deflated 93%)\n",
            "  adding: content/drive/MyDrive/GANs/BrainTumorDetection/RESULTS_KAGGLE/VERSION_brats_22/RESULTS_64/brats_22_fit_output_45.txt (deflated 92%)\n",
            "  adding: content/drive/MyDrive/GANs/BrainTumorDetection/RESULTS_KAGGLE/VERSION_brats_22/RESULTS_64/brats_22_fit_output_46.txt (deflated 92%)\n",
            "  adding: content/drive/MyDrive/GANs/BrainTumorDetection/RESULTS_KAGGLE/VERSION_brats_22/RESULTS_64/brats_22_fit_output_47.txt (deflated 92%)\n",
            "  adding: content/drive/MyDrive/GANs/BrainTumorDetection/RESULTS_KAGGLE/VERSION_brats_22/RESULTS_64/brats_22_fit_output_48.txt (deflated 92%)\n",
            "  adding: content/drive/MyDrive/GANs/BrainTumorDetection/RESULTS_KAGGLE/VERSION_brats_22/RESULTS_64/brats_22_fit_output_49.txt (deflated 92%)\n",
            "  adding: content/drive/MyDrive/GANs/BrainTumorDetection/RESULTS_KAGGLE/VERSION_brats_22/RESULTS_64/brats_22_fit_output_4.txt (deflated 87%)\n",
            "  adding: content/drive/MyDrive/GANs/BrainTumorDetection/RESULTS_KAGGLE/VERSION_brats_22/RESULTS_64/brats_22_fit_output_50.txt (deflated 92%)\n",
            "  adding: content/drive/MyDrive/GANs/BrainTumorDetection/RESULTS_KAGGLE/VERSION_brats_22/RESULTS_64/brats_22_fit_output_51.txt (deflated 92%)\n",
            "  adding: content/drive/MyDrive/GANs/BrainTumorDetection/RESULTS_KAGGLE/VERSION_brats_22/RESULTS_64/brats_22_fit_output_52.txt (deflated 93%)\n",
            "  adding: content/drive/MyDrive/GANs/BrainTumorDetection/RESULTS_KAGGLE/VERSION_brats_22/RESULTS_64/brats_22_fit_output_53.txt (deflated 93%)\n",
            "  adding: content/drive/MyDrive/GANs/BrainTumorDetection/RESULTS_KAGGLE/VERSION_brats_22/RESULTS_64/brats_22_fit_output_54.txt (deflated 92%)\n",
            "  adding: content/drive/MyDrive/GANs/BrainTumorDetection/RESULTS_KAGGLE/VERSION_brats_22/RESULTS_64/brats_22_fit_output_55.txt (deflated 92%)\n",
            "  adding: content/drive/MyDrive/GANs/BrainTumorDetection/RESULTS_KAGGLE/VERSION_brats_22/RESULTS_64/brats_22_fit_output_56.txt (deflated 92%)\n",
            "  adding: content/drive/MyDrive/GANs/BrainTumorDetection/RESULTS_KAGGLE/VERSION_brats_22/RESULTS_64/brats_22_fit_output_57.txt (deflated 93%)\n",
            "  adding: content/drive/MyDrive/GANs/BrainTumorDetection/RESULTS_KAGGLE/VERSION_brats_22/RESULTS_64/brats_22_fit_output_58.txt (deflated 93%)\n",
            "  adding: content/drive/MyDrive/GANs/BrainTumorDetection/RESULTS_KAGGLE/VERSION_brats_22/RESULTS_64/brats_22_fit_output_59.txt (deflated 93%)\n",
            "  adding: content/drive/MyDrive/GANs/BrainTumorDetection/RESULTS_KAGGLE/VERSION_brats_22/RESULTS_64/brats_22_fit_output_5.txt (deflated 87%)\n",
            "  adding: content/drive/MyDrive/GANs/BrainTumorDetection/RESULTS_KAGGLE/VERSION_brats_22/RESULTS_64/brats_22_fit_output_60.txt (deflated 93%)\n",
            "  adding: content/drive/MyDrive/GANs/BrainTumorDetection/RESULTS_KAGGLE/VERSION_brats_22/RESULTS_64/brats_22_fit_output_61.txt (deflated 93%)\n",
            "  adding: content/drive/MyDrive/GANs/BrainTumorDetection/RESULTS_KAGGLE/VERSION_brats_22/RESULTS_64/brats_22_fit_output_62.txt (deflated 93%)\n",
            "  adding: content/drive/MyDrive/GANs/BrainTumorDetection/RESULTS_KAGGLE/VERSION_brats_22/RESULTS_64/brats_22_fit_output_63.txt (deflated 93%)\n",
            "  adding: content/drive/MyDrive/GANs/BrainTumorDetection/RESULTS_KAGGLE/VERSION_brats_22/RESULTS_64/brats_22_fit_output_64.txt (deflated 93%)\n",
            "  adding: content/drive/MyDrive/GANs/BrainTumorDetection/RESULTS_KAGGLE/VERSION_brats_22/RESULTS_64/brats_22_fit_output_6.txt (deflated 87%)\n",
            "  adding: content/drive/MyDrive/GANs/BrainTumorDetection/RESULTS_KAGGLE/VERSION_brats_22/RESULTS_64/brats_22_fit_output_7.txt (deflated 87%)\n",
            "  adding: content/drive/MyDrive/GANs/BrainTumorDetection/RESULTS_KAGGLE/VERSION_brats_22/RESULTS_64/brats_22_fit_output_8.txt (deflated 87%)\n",
            "  adding: content/drive/MyDrive/GANs/BrainTumorDetection/RESULTS_KAGGLE/VERSION_brats_22/RESULTS_64/brats_22_fit_output_9.txt (deflated 87%)\n",
            "  adding: content/drive/MyDrive/GANs/BrainTumorDetection/RESULTS_KAGGLE/VERSION_brats_22/RESULTS_64/brats_22_Generator.h5 (deflated 7%)\n",
            "  adding: content/drive/MyDrive/GANs/BrainTumorDetection/RESULTS_KAGGLE/VERSION_brats_22/RESULTS_64/brats_22_h_10.txt (deflated 79%)\n",
            "  adding: content/drive/MyDrive/GANs/BrainTumorDetection/RESULTS_KAGGLE/VERSION_brats_22/RESULTS_64/brats_22_h_11.txt (deflated 78%)\n",
            "  adding: content/drive/MyDrive/GANs/BrainTumorDetection/RESULTS_KAGGLE/VERSION_brats_22/RESULTS_64/brats_22_h_12.txt (deflated 78%)\n",
            "  adding: content/drive/MyDrive/GANs/BrainTumorDetection/RESULTS_KAGGLE/VERSION_brats_22/RESULTS_64/brats_22_h_13.txt (deflated 79%)\n",
            "  adding: content/drive/MyDrive/GANs/BrainTumorDetection/RESULTS_KAGGLE/VERSION_brats_22/RESULTS_64/brats_22_h_14.txt (deflated 79%)\n",
            "  adding: content/drive/MyDrive/GANs/BrainTumorDetection/RESULTS_KAGGLE/VERSION_brats_22/RESULTS_64/brats_22_h_15.txt (deflated 78%)\n",
            "  adding: content/drive/MyDrive/GANs/BrainTumorDetection/RESULTS_KAGGLE/VERSION_brats_22/RESULTS_64/brats_22_h_16.txt (deflated 78%)\n",
            "  adding: content/drive/MyDrive/GANs/BrainTumorDetection/RESULTS_KAGGLE/VERSION_brats_22/RESULTS_64/brats_22_h_17.txt (deflated 79%)\n",
            "  adding: content/drive/MyDrive/GANs/BrainTumorDetection/RESULTS_KAGGLE/VERSION_brats_22/RESULTS_64/brats_22_h_18.txt (deflated 79%)\n",
            "  adding: content/drive/MyDrive/GANs/BrainTumorDetection/RESULTS_KAGGLE/VERSION_brats_22/RESULTS_64/brats_22_h_19.txt (deflated 79%)\n",
            "  adding: content/drive/MyDrive/GANs/BrainTumorDetection/RESULTS_KAGGLE/VERSION_brats_22/RESULTS_64/brats_22_h_1.txt (deflated 78%)\n",
            "  adding: content/drive/MyDrive/GANs/BrainTumorDetection/RESULTS_KAGGLE/VERSION_brats_22/RESULTS_64/brats_22_h_20.txt (deflated 79%)\n",
            "  adding: content/drive/MyDrive/GANs/BrainTumorDetection/RESULTS_KAGGLE/VERSION_brats_22/RESULTS_64/brats_22_h_21.txt (deflated 79%)\n",
            "  adding: content/drive/MyDrive/GANs/BrainTumorDetection/RESULTS_KAGGLE/VERSION_brats_22/RESULTS_64/brats_22_h_22.txt (deflated 79%)\n",
            "  adding: content/drive/MyDrive/GANs/BrainTumorDetection/RESULTS_KAGGLE/VERSION_brats_22/RESULTS_64/brats_22_h_23.txt (deflated 79%)\n",
            "  adding: content/drive/MyDrive/GANs/BrainTumorDetection/RESULTS_KAGGLE/VERSION_brats_22/RESULTS_64/brats_22_h_24.txt (deflated 79%)\n",
            "  adding: content/drive/MyDrive/GANs/BrainTumorDetection/RESULTS_KAGGLE/VERSION_brats_22/RESULTS_64/brats_22_h_25.txt (deflated 78%)\n",
            "  adding: content/drive/MyDrive/GANs/BrainTumorDetection/RESULTS_KAGGLE/VERSION_brats_22/RESULTS_64/brats_22_h_26.txt (deflated 79%)\n",
            "  adding: content/drive/MyDrive/GANs/BrainTumorDetection/RESULTS_KAGGLE/VERSION_brats_22/RESULTS_64/brats_22_h_27.txt (deflated 79%)\n",
            "  adding: content/drive/MyDrive/GANs/BrainTumorDetection/RESULTS_KAGGLE/VERSION_brats_22/RESULTS_64/brats_22_h_28.txt (deflated 80%)\n",
            "  adding: content/drive/MyDrive/GANs/BrainTumorDetection/RESULTS_KAGGLE/VERSION_brats_22/RESULTS_64/brats_22_h_29.txt (deflated 79%)\n",
            "  adding: content/drive/MyDrive/GANs/BrainTumorDetection/RESULTS_KAGGLE/VERSION_brats_22/RESULTS_64/brats_22_h_2.txt (deflated 79%)\n",
            "  adding: content/drive/MyDrive/GANs/BrainTumorDetection/RESULTS_KAGGLE/VERSION_brats_22/RESULTS_64/brats_22_h_30.txt (deflated 79%)\n",
            "  adding: content/drive/MyDrive/GANs/BrainTumorDetection/RESULTS_KAGGLE/VERSION_brats_22/RESULTS_64/brats_22_h_32.txt (deflated 79%)\n",
            "  adding: content/drive/MyDrive/GANs/BrainTumorDetection/RESULTS_KAGGLE/VERSION_brats_22/RESULTS_64/brats_22_h_33.txt (deflated 79%)\n",
            "  adding: content/drive/MyDrive/GANs/BrainTumorDetection/RESULTS_KAGGLE/VERSION_brats_22/RESULTS_64/brats_22_h_34.txt (deflated 79%)\n",
            "  adding: content/drive/MyDrive/GANs/BrainTumorDetection/RESULTS_KAGGLE/VERSION_brats_22/RESULTS_64/brats_22_h_35.txt (deflated 78%)\n",
            "  adding: content/drive/MyDrive/GANs/BrainTumorDetection/RESULTS_KAGGLE/VERSION_brats_22/RESULTS_64/brats_22_h_36.txt (deflated 79%)\n",
            "  adding: content/drive/MyDrive/GANs/BrainTumorDetection/RESULTS_KAGGLE/VERSION_brats_22/RESULTS_64/brats_22_h_37.txt (deflated 79%)\n",
            "  adding: content/drive/MyDrive/GANs/BrainTumorDetection/RESULTS_KAGGLE/VERSION_brats_22/RESULTS_64/brats_22_h_38.txt (deflated 78%)\n",
            "  adding: content/drive/MyDrive/GANs/BrainTumorDetection/RESULTS_KAGGLE/VERSION_brats_22/RESULTS_64/brats_22_h_39.txt (deflated 79%)\n",
            "  adding: content/drive/MyDrive/GANs/BrainTumorDetection/RESULTS_KAGGLE/VERSION_brats_22/RESULTS_64/brats_22_h_3.txt (deflated 78%)\n",
            "  adding: content/drive/MyDrive/GANs/BrainTumorDetection/RESULTS_KAGGLE/VERSION_brats_22/RESULTS_64/brats_22_h_40.txt (deflated 78%)\n",
            "  adding: content/drive/MyDrive/GANs/BrainTumorDetection/RESULTS_KAGGLE/VERSION_brats_22/RESULTS_64/brats_22_h_41.txt (deflated 79%)\n",
            "  adding: content/drive/MyDrive/GANs/BrainTumorDetection/RESULTS_KAGGLE/VERSION_brats_22/RESULTS_64/brats_22_h_42.txt (deflated 83%)\n",
            "  adding: content/drive/MyDrive/GANs/BrainTumorDetection/RESULTS_KAGGLE/VERSION_brats_22/RESULTS_64/brats_22_h_43.txt (deflated 83%)\n",
            "  adding: content/drive/MyDrive/GANs/BrainTumorDetection/RESULTS_KAGGLE/VERSION_brats_22/RESULTS_64/brats_22_h_44.txt (deflated 83%)\n",
            "  adding: content/drive/MyDrive/GANs/BrainTumorDetection/RESULTS_KAGGLE/VERSION_brats_22/RESULTS_64/brats_22_h_45.txt (deflated 83%)\n",
            "  adding: content/drive/MyDrive/GANs/BrainTumorDetection/RESULTS_KAGGLE/VERSION_brats_22/RESULTS_64/brats_22_h_46.txt (deflated 83%)\n",
            "  adding: content/drive/MyDrive/GANs/BrainTumorDetection/RESULTS_KAGGLE/VERSION_brats_22/RESULTS_64/brats_22_h_47.txt (deflated 83%)\n",
            "  adding: content/drive/MyDrive/GANs/BrainTumorDetection/RESULTS_KAGGLE/VERSION_brats_22/RESULTS_64/brats_22_h_48.txt (deflated 83%)\n",
            "  adding: content/drive/MyDrive/GANs/BrainTumorDetection/RESULTS_KAGGLE/VERSION_brats_22/RESULTS_64/brats_22_h_49.txt (deflated 82%)\n",
            "  adding: content/drive/MyDrive/GANs/BrainTumorDetection/RESULTS_KAGGLE/VERSION_brats_22/RESULTS_64/brats_22_h_4.txt (deflated 79%)\n",
            "  adding: content/drive/MyDrive/GANs/BrainTumorDetection/RESULTS_KAGGLE/VERSION_brats_22/RESULTS_64/brats_22_h_50.txt (deflated 83%)\n",
            "  adding: content/drive/MyDrive/GANs/BrainTumorDetection/RESULTS_KAGGLE/VERSION_brats_22/RESULTS_64/brats_22_h_51.txt (deflated 83%)\n",
            "  adding: content/drive/MyDrive/GANs/BrainTumorDetection/RESULTS_KAGGLE/VERSION_brats_22/RESULTS_64/brats_22_h_52.txt (deflated 83%)\n",
            "  adding: content/drive/MyDrive/GANs/BrainTumorDetection/RESULTS_KAGGLE/VERSION_brats_22/RESULTS_64/brats_22_h_53.txt (deflated 83%)\n",
            "  adding: content/drive/MyDrive/GANs/BrainTumorDetection/RESULTS_KAGGLE/VERSION_brats_22/RESULTS_64/brats_22_h_54.txt (deflated 83%)\n",
            "  adding: content/drive/MyDrive/GANs/BrainTumorDetection/RESULTS_KAGGLE/VERSION_brats_22/RESULTS_64/brats_22_h_55.txt (deflated 83%)\n",
            "  adding: content/drive/MyDrive/GANs/BrainTumorDetection/RESULTS_KAGGLE/VERSION_brats_22/RESULTS_64/brats_22_h_56.txt (deflated 83%)\n",
            "  adding: content/drive/MyDrive/GANs/BrainTumorDetection/RESULTS_KAGGLE/VERSION_brats_22/RESULTS_64/brats_22_h_57.txt (deflated 83%)\n",
            "  adding: content/drive/MyDrive/GANs/BrainTumorDetection/RESULTS_KAGGLE/VERSION_brats_22/RESULTS_64/brats_22_h_58.txt (deflated 83%)\n",
            "  adding: content/drive/MyDrive/GANs/BrainTumorDetection/RESULTS_KAGGLE/VERSION_brats_22/RESULTS_64/brats_22_h_59.txt (deflated 83%)\n",
            "  adding: content/drive/MyDrive/GANs/BrainTumorDetection/RESULTS_KAGGLE/VERSION_brats_22/RESULTS_64/brats_22_h_5.txt (deflated 79%)\n",
            "  adding: content/drive/MyDrive/GANs/BrainTumorDetection/RESULTS_KAGGLE/VERSION_brats_22/RESULTS_64/brats_22_h_60.txt (deflated 83%)\n",
            "  adding: content/drive/MyDrive/GANs/BrainTumorDetection/RESULTS_KAGGLE/VERSION_brats_22/RESULTS_64/brats_22_h_61.txt (deflated 83%)\n",
            "  adding: content/drive/MyDrive/GANs/BrainTumorDetection/RESULTS_KAGGLE/VERSION_brats_22/RESULTS_64/brats_22_h_62.txt (deflated 83%)\n",
            "  adding: content/drive/MyDrive/GANs/BrainTumorDetection/RESULTS_KAGGLE/VERSION_brats_22/RESULTS_64/brats_22_h_63.txt (deflated 83%)\n",
            "  adding: content/drive/MyDrive/GANs/BrainTumorDetection/RESULTS_KAGGLE/VERSION_brats_22/RESULTS_64/brats_22_h_64.txt (deflated 83%)\n",
            "  adding: content/drive/MyDrive/GANs/BrainTumorDetection/RESULTS_KAGGLE/VERSION_brats_22/RESULTS_64/brats_22_h_6.txt (deflated 79%)\n",
            "  adding: content/drive/MyDrive/GANs/BrainTumorDetection/RESULTS_KAGGLE/VERSION_brats_22/RESULTS_64/brats_22_h_7.txt (deflated 79%)\n",
            "  adding: content/drive/MyDrive/GANs/BrainTumorDetection/RESULTS_KAGGLE/VERSION_brats_22/RESULTS_64/brats_22_h_8.txt (deflated 79%)\n",
            "  adding: content/drive/MyDrive/GANs/BrainTumorDetection/RESULTS_KAGGLE/VERSION_brats_22/RESULTS_64/brats_22_h_9.txt (deflated 79%)\n"
          ]
        }
      ],
      "source": [
        "! rm -rf /content/drive/MyDrive/GANs/BrainTumorDetection/results.zip\n",
        "! zip -r /content/drive/MyDrive/GANs/BrainTumorDetection/results.zip $EXEC_PATH"
      ]
    },
    {
      "cell_type": "markdown",
      "metadata": {
        "id": "NH5dDMMDnZSF"
      },
      "source": [
        "# Zipping /INPUTS"
      ]
    },
    {
      "cell_type": "code",
      "execution_count": null,
      "metadata": {
        "colab": {
          "base_uri": "https://localhost:8080/"
        },
        "id": "QphlnbfpToLo",
        "outputId": "6d240fdc-83f3-449f-c979-35ca49fecdf5"
      },
      "outputs": [
        {
          "name": "stdout",
          "output_type": "stream",
          "text": [
            "rm: cannot remove '/content/drive/MyDrive/GANs/BrainTumorDetection/inputs_eval.zip': No such file or directory\n"
          ]
        }
      ],
      "source": [
        "! rm /content/drive/MyDrive/GANs/BrainTumorDetection/inputs_eval.zip"
      ]
    },
    {
      "cell_type": "code",
      "execution_count": null,
      "metadata": {
        "colab": {
          "base_uri": "https://localhost:8080/"
        },
        "id": "Zi_FFjgVnYU8",
        "outputId": "7cc4dc78-c038-4db4-82ca-c438e459f46d"
      },
      "outputs": [
        {
          "output_type": "stream",
          "name": "stdout",
          "text": [
            "updating: content/drive/MyDrive/GANs/BrainTumorDetection/INPUTS_EVAL/class_weights.npy (deflated 41%)\n",
            "updating: content/drive/MyDrive/GANs/BrainTumorDetection/INPUTS_EVAL/split.json (deflated 92%)\n",
            "  adding: content/drive/MyDrive/GANs/BrainTumorDetection/INPUTS_EVAL/split_nass_Generator.h5 (deflated 7%)\n"
          ]
        }
      ],
      "source": [
        "! zip -r /content/drive/MyDrive/GANs/BrainTumorDetection/inputs_eval.zip /content/drive/MyDrive/GANs/BrainTumorDetection/INPUTS_EVAL/*"
      ]
    },
    {
      "cell_type": "code",
      "execution_count": null,
      "metadata": {
        "colab": {
          "base_uri": "https://localhost:8080/"
        },
        "id": "gd4eRt8HZvl6",
        "outputId": "c51f0674-04b5-4ac8-e967-7ab1e066c3fb"
      },
      "outputs": [
        {
          "name": "stdout",
          "output_type": "stream",
          "text": [
            "Archive:  /content/drive/MyDrive/GANs/BrainTumorDetection/results.zip\n",
            "replace /content/RESULTS/content/drive/MyDrive/GANs/BrainTumorDetection/RESULTS_KAGGLE/VERSION_uGAN_S1_v3_br2021/RESULTS_11/uGAN_S1_v3_br2021_Discriminator.h5? [y]es, [n]o, [A]ll, [N]one, [r]ename: "
          ]
        }
      ],
      "source": [
        "! unzip /content/drive/MyDrive/GANs/BrainTumorDetection/results.zip -d /content/RESULTS"
      ]
    }
  ],
  "metadata": {
    "colab": {
      "collapsed_sections": [
        "TjoxFxiQd9ZY",
        "NH5dDMMDnZSF"
      ],
      "name": "setup.ipynb",
      "provenance": []
    },
    "kernelspec": {
      "display_name": "Python 3",
      "name": "python3"
    },
    "language_info": {
      "name": "python"
    }
  },
  "nbformat": 4,
  "nbformat_minor": 0
}